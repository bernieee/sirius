{
  "nbformat": 4,
  "nbformat_minor": 0,
  "metadata": {
    "colab": {
      "name": "Challenge_lungs_classification.ipynb",
      "provenance": [],
      "authorship_tag": "ABX9TyNm3V5/KfE/D3f7Xr56w7bp",
      "include_colab_link": true
    },
    "kernelspec": {
      "name": "python3",
      "display_name": "Python 3"
    },
    "accelerator": "GPU"
  },
  "cells": [
    {
      "cell_type": "markdown",
      "metadata": {
        "id": "view-in-github",
        "colab_type": "text"
      },
      "source": [
        "<a href=\"https://colab.research.google.com/github/bernieee/SIRIUS/blob/master/AI_for_Med_image_analysis/Challenge_lungs_classification.ipynb\" target=\"_parent\"><img src=\"https://colab.research.google.com/assets/colab-badge.svg\" alt=\"Open In Colab\"/></a>"
      ]
    },
    {
      "cell_type": "code",
      "metadata": {
        "id": "zoisSUUJroVP",
        "colab_type": "code",
        "colab": {
          "base_uri": "https://localhost:8080/",
          "height": 125
        },
        "outputId": "4629c67c-6846-4c38-e907-41f6494cdb33"
      },
      "source": [
        "  from google.colab import drive\n",
        "drive.mount('/content/drive')"
      ],
      "execution_count": 1,
      "outputs": [
        {
          "output_type": "stream",
          "text": [
            "Go to this URL in a browser: https://accounts.google.com/o/oauth2/auth?client_id=947318989803-6bn6qk8qdgf4n4g3pfee6491hc0brc4i.apps.googleusercontent.com&redirect_uri=urn%3aietf%3awg%3aoauth%3a2.0%3aoob&response_type=code&scope=email%20https%3a%2f%2fwww.googleapis.com%2fauth%2fdocs.test%20https%3a%2f%2fwww.googleapis.com%2fauth%2fdrive%20https%3a%2f%2fwww.googleapis.com%2fauth%2fdrive.photos.readonly%20https%3a%2f%2fwww.googleapis.com%2fauth%2fpeopleapi.readonly\n",
            "\n",
            "Enter your authorization code:\n",
            "··········\n",
            "Mounted at /content/drive\n"
          ],
          "name": "stdout"
        }
      ]
    },
    {
      "cell_type": "code",
      "metadata": {
        "id": "9W8hUDyBte6o",
        "colab_type": "code",
        "colab": {}
      },
      "source": [
        "import numpy as np\n",
        "import pandas as pd\n",
        "import torch\n",
        "from torch.utils.data import Dataset, DataLoader\n",
        "from matplotlib import pyplot as plt\n",
        "from matplotlib import image as IMG\n",
        "import imageio\n",
        "from PIL import Image\n",
        "import torchvision as tv\n",
        "from sklearn.model_selection import train_test_split\n",
        "import torch.nn as nn\n",
        "import torch.nn.functional as F\n",
        "import torch.optim as optim\n",
        "from skimage.transform import rescale, resize, downscale_local_mean"
      ],
      "execution_count": 13,
      "outputs": []
    },
    {
      "cell_type": "code",
      "metadata": {
        "id": "6sLQ1sqQQCEj",
        "colab_type": "code",
        "colab": {}
      },
      "source": [
        "if torch.cuda.is_available():     # Make sure GPU is available\n",
        "    dev = torch.device(\"cuda:0\")\n",
        "    kwar = {'num_workers': 8, 'pin_memory': True}\n",
        "    cpu = torch.device(\"cpu\")\n",
        "else:\n",
        "    print(\"Warning: CUDA not found, CPU only.\")\n",
        "    dev = torch.device(\"cpu\")\n",
        "    kwar = {}\n",
        "    cpu = torch.device(\"cpu\")\n",
        "\n",
        "np.random.seed(551)"
      ],
      "execution_count": 3,
      "outputs": []
    },
    {
      "cell_type": "code",
      "metadata": {
        "id": "SdOcW1YWtJ4z",
        "colab_type": "code",
        "colab": {}
      },
      "source": [
        "images_path = '/content/drive/My Drive/Sirius challenge/chexpertData_new'\n",
        "labels_path = '/content/drive/My Drive/Sirius challenge/train_new.csv'\n",
        "test_path = '/content/drive/My Drive/Sirius challenge/test_new.csv'"
      ],
      "execution_count": 4,
      "outputs": []
    },
    {
      "cell_type": "markdown",
      "metadata": {
        "id": "kjVZWEZTsd-t",
        "colab_type": "text"
      },
      "source": [
        "## **Prepare train data**"
      ]
    },
    {
      "cell_type": "code",
      "metadata": {
        "id": "l2iQ507GuJhP",
        "colab_type": "code",
        "colab": {}
      },
      "source": [
        "train_df = pd.read_csv(labels_path)\n",
        "#train_df"
      ],
      "execution_count": 5,
      "outputs": []
    },
    {
      "cell_type": "code",
      "metadata": {
        "id": "eMqrPhH13yau",
        "colab_type": "code",
        "colab": {}
      },
      "source": [
        "frontal = list(map(str, train_df[train_df['label']=='frontal']['target_name'])) \n",
        "lateral = list(map(str, train_df[train_df['label']=='lateral']['target_name']))"
      ],
      "execution_count": 6,
      "outputs": []
    },
    {
      "cell_type": "code",
      "metadata": {
        "id": "D-yw2ZZQ3UqI",
        "colab_type": "code",
        "colab": {}
      },
      "source": [
        "images = np.concatenate([frontal, lateral])\n",
        "image_names = []\n",
        "image_labels = {}\n",
        "\n",
        "for image in images:\n",
        "    image_name = images_path + '/' + image\n",
        "    if image in frontal:\n",
        "        image_labels.update({image_name: 1})\n",
        "    else:\n",
        "        image_labels.update({image_name: 0})\n",
        "    image_names.append(image_name)"
      ],
      "execution_count": 7,
      "outputs": []
    },
    {
      "cell_type": "code",
      "metadata": {
        "id": "K85gQehMQns_",
        "colab_type": "code",
        "colab": {}
      },
      "source": [
        "imageWidth, imageHeight = Image.open(image_names[0]).size"
      ],
      "execution_count": 8,
      "outputs": []
    },
    {
      "cell_type": "code",
      "metadata": {
        "id": "Pj9ReNwMsdLH",
        "colab_type": "code",
        "colab": {}
      },
      "source": [
        "class LungsClassificationDataset(Dataset):\n",
        "    def __init__(self, image_names, image_labels):\n",
        "        self.image_names = image_names\n",
        "        self.image_labels = image_labels\n",
        "\n",
        "        pass\n",
        "                                            \n",
        "    def __len__(self):\n",
        "        return len(self.image_names)\n",
        "\n",
        "    def get_image(self, image_path):\n",
        "        image = imageio.imread(image_path)\n",
        "        image = resize(image, (256, 256),\n",
        "                       anti_aliasing=True)\n",
        "        return image\n",
        "        \n",
        "    def __getitem__(self, index):\n",
        "        image_path = self.image_names[index]\n",
        "\n",
        "        image = self.get_image(image_path)\n",
        "        label = self.image_labels[image_path]\n",
        "\n",
        "        image = torch.tensor(image) \n",
        "        label = torch.tensor(label)\n",
        "  \n",
        "        return {'image':image, 'label':label}"
      ],
      "execution_count": 36,
      "outputs": []
    },
    {
      "cell_type": "code",
      "metadata": {
        "id": "dEaoEeCBMDin",
        "colab_type": "code",
        "colab": {}
      },
      "source": [
        "train_image_names, val_image_names = train_test_split(image_names, test_size=0.2)\n",
        "\n",
        "train = LungsClassificationDataset(train_image_names, image_labels)\n",
        "validation = LungsClassificationDataset(val_image_names, image_labels)"
      ],
      "execution_count": 37,
      "outputs": []
    },
    {
      "cell_type": "code",
      "metadata": {
        "id": "NmFyajIkn12e",
        "colab_type": "code",
        "colab": {}
      },
      "source": [
        "imageWidth, imageHeight = train[0]['image'].shape"
      ],
      "execution_count": 38,
      "outputs": []
    },
    {
      "cell_type": "code",
      "metadata": {
        "id": "rMUi4X9yx-Bf",
        "colab_type": "code",
        "colab": {
          "base_uri": "https://localhost:8080/",
          "height": 286
        },
        "outputId": "ed582f14-8ef6-4e5a-c543-514f01229294"
      },
      "source": [
        "sample = train[5]\n",
        "plt.imshow(sample['image'], cmap='bone')\n",
        "print(sample['label'])"
      ],
      "execution_count": 39,
      "outputs": [
        {
          "output_type": "stream",
          "text": [
            "tensor(1)\n"
          ],
          "name": "stdout"
        },
        {
          "output_type": "display_data",
          "data": {
            "image/png": "[encoded data removed]",
            "text/plain": [
              "<Figure size 432x288 with 1 Axes>"
            ]
          },
          "metadata": {
            "tags": [],
            "needs_background": "light"
          }
        }
      ]
    },
    {
      "cell_type": "markdown",
      "metadata": {
        "id": "GOSMHP4EEEu-",
        "colab_type": "text"
      },
      "source": [
        "## **Prepare test data**"
      ]
    },
    {
      "cell_type": "code",
      "metadata": {
        "id": "BuDVkXHr_oOI",
        "colab_type": "code",
        "colab": {}
      },
      "source": [
        "test_df = pd.read_csv(test_path)\n",
        "#test_df"
      ],
      "execution_count": null,
      "outputs": []
    },
    {
      "cell_type": "code",
      "metadata": {
        "id": "iZw_25-u_1DE",
        "colab_type": "code",
        "colab": {}
      },
      "source": [
        "images = list(map(str, test_df['target_name']))\n",
        "test_image_names = []\n",
        "\n",
        "for image in images:\n",
        "    image_name = images_path + '/' + image\n",
        "    test_image_names.append(image_name)"
      ],
      "execution_count": null,
      "outputs": []
    },
    {
      "cell_type": "code",
      "metadata": {
        "id": "hdfvcaRkEOj_",
        "colab_type": "code",
        "colab": {}
      },
      "source": [
        "nTestData = len(test_image_names)"
      ],
      "execution_count": null,
      "outputs": []
    },
    {
      "cell_type": "markdown",
      "metadata": {
        "id": "LVPXu-QnDjOi",
        "colab_type": "text"
      },
      "source": [
        "## **Separation to train and validation**"
      ]
    },
    {
      "cell_type": "code",
      "metadata": {
        "id": "uN5sMxD4Gumm",
        "colab_type": "code",
        "colab": {
          "base_uri": "https://localhost:8080/",
          "height": 34
        },
        "outputId": "8f14acdc-d096-4ef2-84e8-5dc2df606c58"
      },
      "source": [
        "nTrainData"
      ],
      "execution_count": null,
      "outputs": [
        {
          "output_type": "execute_result",
          "data": {
            "text/plain": [
              "3199"
            ]
          },
          "metadata": {
            "tags": []
          },
          "execution_count": 156
        }
      ]
    },
    {
      "cell_type": "code",
      "metadata": {
        "id": "x_w-wgh5Diei",
        "colab_type": "code",
        "colab": {
          "base_uri": "https://localhost:8080/",
          "height": 34
        },
        "outputId": "8597d10a-fdee-4c0e-ef9e-5ea70023bb3c"
      },
      "source": [
        "validFrac = 0.2\n",
        "\n",
        "validList = []\n",
        "trainList = []\n",
        "\n",
        "for i in range(nTrainData):\n",
        "    rann = np.random.random()\n",
        "    if rann < validFrac:\n",
        "        validList.append(i)\n",
        "    else:\n",
        "        trainList.append(i)\n",
        "        \n",
        "nTrainData = len(trainList)\n",
        "nValidData = len(validList)\n",
        "\n",
        "print(\"Training images =\",nTrainData,\"Validation =\",nValidData,\"Testing =\",nTestData)"
      ],
      "execution_count": null,
      "outputs": [
        {
          "output_type": "stream",
          "text": [
            "Training images = 2575 Validation = 624 Testing = 800\n"
          ],
          "name": "stdout"
        }
      ]
    },
    {
      "cell_type": "markdown",
      "metadata": {
        "id": "f53DkGGsOM0O",
        "colab_type": "text"
      },
      "source": [
        "## **Model Architecture**"
      ]
    },
    {
      "cell_type": "code",
      "metadata": {
        "id": "VLVF98FzPB4M",
        "colab_type": "code",
        "colab": {}
      },
      "source": [
        "class LungModel(nn.Module):\n",
        "    def __init__(self,width,height): \n",
        "        super(LungModel,self).__init__()  \n",
        "\n",
        "        numConvs1 = 5\n",
        "        convSize1 = 5\n",
        "        numConvs2 = 10\n",
        "        convSize2 = 5\n",
        "        numNodesToFC = numConvs2 * (width - (convSize1 - 1) - (convSize2 - 1)) * (height - (convSize1 - 1) - (convSize2 - 1)) // 81\n",
        "\n",
        "       \n",
        "        # print(1)\n",
        "        self.cnv1 = nn.Conv2d(in_channels=1, out_channels=numConvs1, kernel_size=convSize1)\n",
        "        self.maxpool1 = nn.MaxPool2d(kernel_size=2)\n",
        "        # print(2)\n",
        "        self.cnv2 = nn.Conv2d(in_channels=numConvs1, out_channels=numConvs2, kernel_size=convSize2)\n",
        "        self.maxpool2 = nn.MaxPool2d(kernel_size=2)\n",
        "        self.dropout2d = nn.Dropout2d(0.25)\n",
        "\n",
        "        fcSize1 = 400\n",
        "        fcSize2 = 80\n",
        "        # print(numNodesToFC)\n",
        "      \n",
        "        self.ful1 = nn.Linear(numNodesToFC,fcSize1)\n",
        "        # print(3)\n",
        "        self.ful2 = nn.Linear(fcSize1, fcSize2)\n",
        "        self.ful3 = nn.Linear(fcSize2, 2)\n",
        "        self.dropout = nn.Dropout(0.25)\n",
        "        \n",
        "    def forward(self,x):\n",
        "\n",
        "        x = F.elu(self.cnv1(x)) \n",
        "        x = self.maxpool1(x)\n",
        "        x = F.elu(self.cnv2(x))\n",
        "        x = self.maxpool2(x)\n",
        "        x = x.view(-1,self.num_flat_features(x)) \n",
        "        x = F.elu(self.ful1(x)) \n",
        "        x = self.dropout(x)\n",
        "        x = F.elu(self.ful2(x)) \n",
        "        x = self.dropout(x)\n",
        "        x = self.ful3(x)        \n",
        "        return x\n",
        "\n",
        "    def num_flat_features(self, x):  # Count the individual nodes in a layer\n",
        "        size = x.size()[1:]\n",
        "        num_features = 1\n",
        "        for s in size:\n",
        "            num_features *= s\n",
        "        return num_features"
      ],
      "execution_count": 40,
      "outputs": []
    },
    {
      "cell_type": "code",
      "metadata": {
        "id": "299il9RS7ErZ",
        "colab_type": "code",
        "colab": {}
      },
      "source": [
        "class LungModel(nn.Module):\n",
        "    def __init__(self,width,height): \n",
        "        super(LungModel,self).__init__()  \n",
        "\n",
        "        numConvs1 = 8\n",
        "        convSize1 = 7\n",
        "        numConvs2 = 16\n",
        "        convSize2 = 5\n",
        "       \n",
        "        self.cnv1 = nn.Conv2d(in_channels=1, out_channels=numConvs1, kernel_size=convSize1)\n",
        "        self.maxpool1 = nn.MaxPool2d(kernel_size=2)\n",
        "        self.cnv2 = nn.Conv2d(in_channels=numConvs1, out_channels=numConvs2, kernel_size=convSize2)\n",
        "        self.maxpool2 = nn.MaxPool2d(kernel_size=2)\n",
        "\n",
        "        denseSize0 = numConvs2 * (width - convSize1 + 1 - convSize2 + 1) * (height - convSize1 + 1 - convSize2 + 1)\n",
        "        denseSize1 = 512\n",
        "        denseSize2 = 64\n",
        "      \n",
        "        self.dense1 = nn.Linear(denseSize0,denseSize1)\n",
        "        self.dense2 = nn.Linear(denseSize1, denseSize2)\n",
        "        self.dense3 = nn.Linear(denseSize2, 2)\n",
        "        self.dropout = nn.Dropout(0.25)\n",
        "        \n",
        "    def forward(self,x):\n",
        "\n",
        "        x = F.elu(self.cnv1(x)) \n",
        "        x = self.maxpool1(x)\n",
        "        x = F.elu(self.cnv2(x))\n",
        "        x = self.maxpool2(x)\n",
        "        x = x.view(-1,self.num_flat_features(x)) \n",
        "        x = F.elu(self.dense1(x)) \n",
        "        x = self.dropout(x)\n",
        "        x = F.elu(self.dense2(x)) \n",
        "        x = self.dropout(x)\n",
        "        x = self.dense3(x)        \n",
        "        return x\n",
        "\n",
        "    def num_flat_features(self, x):  # Count the individual nodes in a layer\n",
        "        size = x.size()[1:]\n",
        "        num_features = 1\n",
        "        for s in size:\n",
        "            num_features *= s\n",
        "        return num_features"
      ],
      "execution_count": 58,
      "outputs": []
    },
    {
      "cell_type": "code",
      "metadata": {
        "id": "37WBDFix9Air",
        "colab_type": "code",
        "colab": {}
      },
      "source": [
        "model = LungModel(imageWidth, imageHeight).to(dev)"
      ],
      "execution_count": 59,
      "outputs": []
    },
    {
      "cell_type": "code",
      "metadata": {
        "id": "5jP7s8ss90le",
        "colab_type": "code",
        "colab": {}
      },
      "source": [
        "train_loader = DataLoader(train,batch_size=10)\n",
        "val_loader = DataLoader(validation, batch_size=10)\n",
        "criterion = torch.nn.BCEWithLogitsLoss()\n",
        "optimizer = optim.SGD(model.parameters(), lr=0.01, momentum=0.9)"
      ],
      "execution_count": 60,
      "outputs": []
    },
    {
      "cell_type": "code",
      "metadata": {
        "id": "L1DRbMyjpKUj",
        "colab_type": "code",
        "colab": {
          "base_uri": "https://localhost:8080/",
          "height": 419
        },
        "outputId": "1b0aae42-febe-410b-ad39-df239adcb1d2"
      },
      "source": [
        "num_epochs = 20\n",
        "train_loss = 0\n",
        "\n",
        "for i in range(num_epochs):\n",
        "\n",
        "    train_loss = 0\n",
        "    \n",
        "    for sample in train_loader:\n",
        "        image, label = sample['image'], sample['label']\n",
        "        image, label = image.to(dev), label.to(dev)\n",
        "\n",
        "        print(image.shape)\n",
        "        print(label.shape)\n",
        "        \n",
        "        prediction = model(image) \n",
        "\n",
        "        print(image.shape)\n",
        "        print(label.shape)\n",
        "        print(prediction.shape)\n",
        "\n",
        "\n",
        "        optimizer.zero_grad()\n",
        "        loss = criterion(prediction, label)\n",
        "        loss.backward()\n",
        "        optimizer.step() \n",
        "\n",
        "        train_loss += loss.item()\n",
        "      \n",
        "    val_loss = 0\n",
        "\n",
        "    with torch.no_grad():\n",
        "        for sample in val_loader:\n",
        "            image, label = sample['image'], sample['label']\n",
        "            image, label = image.to(dev), label.to(dev)\n",
        "            prediction = model(image)\n",
        "\n",
        "            loss = creterion(prediction, label)\n",
        "            val_loss += loss.item()\n",
        "\n",
        "    \n",
        "    train_loss /= len(train_loader)\n",
        "    val_loss /= len(val_loader)\n",
        "\n",
        "    print(\"Epoch = \", i, \"; Training loss = \", train_loss, \"; Validation loss = \", val_loss)\n"
      ],
      "execution_count": 61,
      "outputs": [
        {
          "output_type": "stream",
          "text": [
            "torch.Size([10, 256, 256])\n",
            "torch.Size([10])\n"
          ],
          "name": "stdout"
        },
        {
          "output_type": "error",
          "ename": "RuntimeError",
          "evalue": "ignored",
          "traceback": [
            "\u001b[0;31m---------------------------------------------------------------------------\u001b[0m",
            "\u001b[0;31mRuntimeError\u001b[0m                              Traceback (most recent call last)",
            "\u001b[0;32m<ipython-input-61-6f34daef4b37>\u001b[0m in \u001b[0;36m<module>\u001b[0;34m()\u001b[0m\n\u001b[1;32m     13\u001b[0m         \u001b[0mprint\u001b[0m\u001b[0;34m(\u001b[0m\u001b[0mlabel\u001b[0m\u001b[0;34m.\u001b[0m\u001b[0mshape\u001b[0m\u001b[0;34m)\u001b[0m\u001b[0;34m\u001b[0m\u001b[0;34m\u001b[0m\u001b[0m\n\u001b[1;32m     14\u001b[0m \u001b[0;34m\u001b[0m\u001b[0m\n\u001b[0;32m---> 15\u001b[0;31m         \u001b[0mprediction\u001b[0m \u001b[0;34m=\u001b[0m \u001b[0mmodel\u001b[0m\u001b[0;34m(\u001b[0m\u001b[0mimage\u001b[0m\u001b[0;34m)\u001b[0m\u001b[0;34m\u001b[0m\u001b[0;34m\u001b[0m\u001b[0m\n\u001b[0m\u001b[1;32m     16\u001b[0m \u001b[0;34m\u001b[0m\u001b[0m\n\u001b[1;32m     17\u001b[0m         \u001b[0mprint\u001b[0m\u001b[0;34m(\u001b[0m\u001b[0mimage\u001b[0m\u001b[0;34m.\u001b[0m\u001b[0mshape\u001b[0m\u001b[0;34m)\u001b[0m\u001b[0;34m\u001b[0m\u001b[0;34m\u001b[0m\u001b[0m\n",
            "\u001b[0;32m/usr/local/lib/python3.6/dist-packages/torch/nn/modules/module.py\u001b[0m in \u001b[0;36m_call_impl\u001b[0;34m(self, *input, **kwargs)\u001b[0m\n\u001b[1;32m    720\u001b[0m             \u001b[0mresult\u001b[0m \u001b[0;34m=\u001b[0m \u001b[0mself\u001b[0m\u001b[0;34m.\u001b[0m\u001b[0m_slow_forward\u001b[0m\u001b[0;34m(\u001b[0m\u001b[0;34m*\u001b[0m\u001b[0minput\u001b[0m\u001b[0;34m,\u001b[0m \u001b[0;34m**\u001b[0m\u001b[0mkwargs\u001b[0m\u001b[0;34m)\u001b[0m\u001b[0;34m\u001b[0m\u001b[0;34m\u001b[0m\u001b[0m\n\u001b[1;32m    721\u001b[0m         \u001b[0;32melse\u001b[0m\u001b[0;34m:\u001b[0m\u001b[0;34m\u001b[0m\u001b[0;34m\u001b[0m\u001b[0m\n\u001b[0;32m--> 722\u001b[0;31m             \u001b[0mresult\u001b[0m \u001b[0;34m=\u001b[0m \u001b[0mself\u001b[0m\u001b[0;34m.\u001b[0m\u001b[0mforward\u001b[0m\u001b[0;34m(\u001b[0m\u001b[0;34m*\u001b[0m\u001b[0minput\u001b[0m\u001b[0;34m,\u001b[0m \u001b[0;34m**\u001b[0m\u001b[0mkwargs\u001b[0m\u001b[0;34m)\u001b[0m\u001b[0;34m\u001b[0m\u001b[0;34m\u001b[0m\u001b[0m\n\u001b[0m\u001b[1;32m    723\u001b[0m         for hook in itertools.chain(\n\u001b[1;32m    724\u001b[0m                 \u001b[0m_global_forward_hooks\u001b[0m\u001b[0;34m.\u001b[0m\u001b[0mvalues\u001b[0m\u001b[0;34m(\u001b[0m\u001b[0;34m)\u001b[0m\u001b[0;34m,\u001b[0m\u001b[0;34m\u001b[0m\u001b[0;34m\u001b[0m\u001b[0m\n",
            "\u001b[0;32m<ipython-input-58-1f805dfcb053>\u001b[0m in \u001b[0;36mforward\u001b[0;34m(self, x)\u001b[0m\n\u001b[1;32m     24\u001b[0m     \u001b[0;32mdef\u001b[0m \u001b[0mforward\u001b[0m\u001b[0;34m(\u001b[0m\u001b[0mself\u001b[0m\u001b[0;34m,\u001b[0m\u001b[0mx\u001b[0m\u001b[0;34m)\u001b[0m\u001b[0;34m:\u001b[0m\u001b[0;34m\u001b[0m\u001b[0;34m\u001b[0m\u001b[0m\n\u001b[1;32m     25\u001b[0m \u001b[0;34m\u001b[0m\u001b[0m\n\u001b[0;32m---> 26\u001b[0;31m         \u001b[0mx\u001b[0m \u001b[0;34m=\u001b[0m \u001b[0mF\u001b[0m\u001b[0;34m.\u001b[0m\u001b[0melu\u001b[0m\u001b[0;34m(\u001b[0m\u001b[0mself\u001b[0m\u001b[0;34m.\u001b[0m\u001b[0mcnv1\u001b[0m\u001b[0;34m(\u001b[0m\u001b[0mx\u001b[0m\u001b[0;34m)\u001b[0m\u001b[0;34m)\u001b[0m\u001b[0;34m\u001b[0m\u001b[0;34m\u001b[0m\u001b[0m\n\u001b[0m\u001b[1;32m     27\u001b[0m         \u001b[0mx\u001b[0m \u001b[0;34m=\u001b[0m \u001b[0mself\u001b[0m\u001b[0;34m.\u001b[0m\u001b[0mmaxpool1\u001b[0m\u001b[0;34m(\u001b[0m\u001b[0mx\u001b[0m\u001b[0;34m)\u001b[0m\u001b[0;34m\u001b[0m\u001b[0;34m\u001b[0m\u001b[0m\n\u001b[1;32m     28\u001b[0m         \u001b[0mx\u001b[0m \u001b[0;34m=\u001b[0m \u001b[0mF\u001b[0m\u001b[0;34m.\u001b[0m\u001b[0melu\u001b[0m\u001b[0;34m(\u001b[0m\u001b[0mself\u001b[0m\u001b[0;34m.\u001b[0m\u001b[0mcnv2\u001b[0m\u001b[0;34m(\u001b[0m\u001b[0mx\u001b[0m\u001b[0;34m)\u001b[0m\u001b[0;34m)\u001b[0m\u001b[0;34m\u001b[0m\u001b[0;34m\u001b[0m\u001b[0m\n",
            "\u001b[0;32m/usr/local/lib/python3.6/dist-packages/torch/nn/modules/module.py\u001b[0m in \u001b[0;36m_call_impl\u001b[0;34m(self, *input, **kwargs)\u001b[0m\n\u001b[1;32m    720\u001b[0m             \u001b[0mresult\u001b[0m \u001b[0;34m=\u001b[0m \u001b[0mself\u001b[0m\u001b[0;34m.\u001b[0m\u001b[0m_slow_forward\u001b[0m\u001b[0;34m(\u001b[0m\u001b[0;34m*\u001b[0m\u001b[0minput\u001b[0m\u001b[0;34m,\u001b[0m \u001b[0;34m**\u001b[0m\u001b[0mkwargs\u001b[0m\u001b[0;34m)\u001b[0m\u001b[0;34m\u001b[0m\u001b[0;34m\u001b[0m\u001b[0m\n\u001b[1;32m    721\u001b[0m         \u001b[0;32melse\u001b[0m\u001b[0;34m:\u001b[0m\u001b[0;34m\u001b[0m\u001b[0;34m\u001b[0m\u001b[0m\n\u001b[0;32m--> 722\u001b[0;31m             \u001b[0mresult\u001b[0m \u001b[0;34m=\u001b[0m \u001b[0mself\u001b[0m\u001b[0;34m.\u001b[0m\u001b[0mforward\u001b[0m\u001b[0;34m(\u001b[0m\u001b[0;34m*\u001b[0m\u001b[0minput\u001b[0m\u001b[0;34m,\u001b[0m \u001b[0;34m**\u001b[0m\u001b[0mkwargs\u001b[0m\u001b[0;34m)\u001b[0m\u001b[0;34m\u001b[0m\u001b[0;34m\u001b[0m\u001b[0m\n\u001b[0m\u001b[1;32m    723\u001b[0m         for hook in itertools.chain(\n\u001b[1;32m    724\u001b[0m                 \u001b[0m_global_forward_hooks\u001b[0m\u001b[0;34m.\u001b[0m\u001b[0mvalues\u001b[0m\u001b[0;34m(\u001b[0m\u001b[0;34m)\u001b[0m\u001b[0;34m,\u001b[0m\u001b[0;34m\u001b[0m\u001b[0;34m\u001b[0m\u001b[0m\n",
            "\u001b[0;32m/usr/local/lib/python3.6/dist-packages/torch/nn/modules/conv.py\u001b[0m in \u001b[0;36mforward\u001b[0;34m(self, input)\u001b[0m\n\u001b[1;32m    417\u001b[0m \u001b[0;34m\u001b[0m\u001b[0m\n\u001b[1;32m    418\u001b[0m     \u001b[0;32mdef\u001b[0m \u001b[0mforward\u001b[0m\u001b[0;34m(\u001b[0m\u001b[0mself\u001b[0m\u001b[0;34m,\u001b[0m \u001b[0minput\u001b[0m\u001b[0;34m:\u001b[0m \u001b[0mTensor\u001b[0m\u001b[0;34m)\u001b[0m \u001b[0;34m->\u001b[0m \u001b[0mTensor\u001b[0m\u001b[0;34m:\u001b[0m\u001b[0;34m\u001b[0m\u001b[0;34m\u001b[0m\u001b[0m\n\u001b[0;32m--> 419\u001b[0;31m         \u001b[0;32mreturn\u001b[0m \u001b[0mself\u001b[0m\u001b[0;34m.\u001b[0m\u001b[0m_conv_forward\u001b[0m\u001b[0;34m(\u001b[0m\u001b[0minput\u001b[0m\u001b[0;34m,\u001b[0m \u001b[0mself\u001b[0m\u001b[0;34m.\u001b[0m\u001b[0mweight\u001b[0m\u001b[0;34m)\u001b[0m\u001b[0;34m\u001b[0m\u001b[0;34m\u001b[0m\u001b[0m\n\u001b[0m\u001b[1;32m    420\u001b[0m \u001b[0;34m\u001b[0m\u001b[0m\n\u001b[1;32m    421\u001b[0m \u001b[0;32mclass\u001b[0m \u001b[0mConv3d\u001b[0m\u001b[0;34m(\u001b[0m\u001b[0m_ConvNd\u001b[0m\u001b[0;34m)\u001b[0m\u001b[0;34m:\u001b[0m\u001b[0;34m\u001b[0m\u001b[0;34m\u001b[0m\u001b[0m\n",
            "\u001b[0;32m/usr/local/lib/python3.6/dist-packages/torch/nn/modules/conv.py\u001b[0m in \u001b[0;36m_conv_forward\u001b[0;34m(self, input, weight)\u001b[0m\n\u001b[1;32m    414\u001b[0m                             _pair(0), self.dilation, self.groups)\n\u001b[1;32m    415\u001b[0m         return F.conv2d(input, weight, self.bias, self.stride,\n\u001b[0;32m--> 416\u001b[0;31m                         self.padding, self.dilation, self.groups)\n\u001b[0m\u001b[1;32m    417\u001b[0m \u001b[0;34m\u001b[0m\u001b[0m\n\u001b[1;32m    418\u001b[0m     \u001b[0;32mdef\u001b[0m \u001b[0mforward\u001b[0m\u001b[0;34m(\u001b[0m\u001b[0mself\u001b[0m\u001b[0;34m,\u001b[0m \u001b[0minput\u001b[0m\u001b[0;34m:\u001b[0m \u001b[0mTensor\u001b[0m\u001b[0;34m)\u001b[0m \u001b[0;34m->\u001b[0m \u001b[0mTensor\u001b[0m\u001b[0;34m:\u001b[0m\u001b[0;34m\u001b[0m\u001b[0;34m\u001b[0m\u001b[0m\n",
            "\u001b[0;31mRuntimeError\u001b[0m: Expected 4-dimensional input for 4-dimensional weight [8, 1, 7, 7], but got 3-dimensional input of size [10, 256, 256] instead"
          ]
        }
      ]
    },
    {
      "cell_type": "code",
      "metadata": {
        "id": "OEBCqz6N9-Nx",
        "colab_type": "code",
        "colab": {}
      },
      "source": [
        ""
      ],
      "execution_count": null,
      "outputs": []
    }
  ]
}