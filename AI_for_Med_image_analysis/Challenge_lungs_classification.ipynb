{
  "nbformat": 4,
  "nbformat_minor": 0,
  "metadata": {
    "colab": {
      "name": "Copy_of_Challenge_lungs_classification.ipynb",
      "provenance": [],
      "include_colab_link": true
    },
    "kernelspec": {
      "name": "python3",
      "display_name": "Python 3"
    },
    "accelerator": "GPU"
  },
  "cells": [
    {
      "cell_type": "markdown",
      "metadata": {
        "id": "view-in-github",
        "colab_type": "text"
      },
      "source": [
        "<a href=\"https://colab.research.google.com/github/bernieee/SIRIUS/blob/master/AI_for_Med_image_analysis/Challenge_lungs_classification.ipynb\" target=\"_parent\"><img src=\"https://colab.research.google.com/assets/colab-badge.svg\" alt=\"Open In Colab\"/></a>"
      ]
    },
    {
      "cell_type": "code",
      "metadata": {
        "id": "zoisSUUJroVP",
        "colab_type": "code",
        "colab": {
          "base_uri": "https://localhost:8080/",
          "height": 125
        },
        "outputId": "920ffd20-c198-48aa-aa2d-5c72fb7f7ed7"
      },
      "source": [
        "from google.colab import drive\n",
        "drive.mount('/content/drive')"
      ],
      "execution_count": 1,
      "outputs": [
        {
          "output_type": "stream",
          "text": [
            "Go to this URL in a browser: https://accounts.google.com/o/oauth2/auth?client_id=947318989803-6bn6qk8qdgf4n4g3pfee6491hc0brc4i.apps.googleusercontent.com&redirect_uri=urn%3aietf%3awg%3aoauth%3a2.0%3aoob&response_type=code&scope=email%20https%3a%2f%2fwww.googleapis.com%2fauth%2fdocs.test%20https%3a%2f%2fwww.googleapis.com%2fauth%2fdrive%20https%3a%2f%2fwww.googleapis.com%2fauth%2fdrive.photos.readonly%20https%3a%2f%2fwww.googleapis.com%2fauth%2fpeopleapi.readonly\n",
            "\n",
            "Enter your authorization code:\n",
            "··········\n",
            "Mounted at /content/drive\n"
          ],
          "name": "stdout"
        }
      ]
    },
    {
      "cell_type": "code",
      "metadata": {
        "id": "ufTgBj73Nhgy",
        "colab_type": "code",
        "colab": {}
      },
      "source": [
        "!mkdir data64 \n",
        "!unzip /content/drive/My\\ Drive/data64.zip -d data64"
      ],
      "execution_count": null,
      "outputs": []
    },
    {
      "cell_type": "code",
      "metadata": {
        "id": "9W8hUDyBte6o",
        "colab_type": "code",
        "colab": {}
      },
      "source": [
        "import numpy as np\n",
        "import pandas as pd\n",
        "import torch\n",
        "from torch.utils.data import Dataset, DataLoader\n",
        "from matplotlib import pyplot as plt\n",
        "from matplotlib import image as IMG\n",
        "import imageio\n",
        "from PIL import Image\n",
        "import torchvision as tv\n",
        "from sklearn.model_selection import train_test_split\n",
        "import torch.nn as nn\n",
        "import torch.nn.functional as F\n",
        "import torch.optim as optim\n",
        "from skimage.transform import rescale, resize, downscale_local_mean\n",
        "from pathlib import Path"
      ],
      "execution_count": 3,
      "outputs": []
    },
    {
      "cell_type": "code",
      "metadata": {
        "id": "6sLQ1sqQQCEj",
        "colab_type": "code",
        "colab": {}
      },
      "source": [
        "if torch.cuda.is_available():     # Make sure GPU is available\n",
        "    dev = torch.device(\"cuda:0\")\n",
        "    kwar = {'num_workers': 8, 'pin_memory': True}\n",
        "    cpu = torch.device(\"cpu\")\n",
        "else:\n",
        "    print(\"Warning: CUDA not found, CPU only.\")\n",
        "    dev = torch.device(\"cpu\")\n",
        "    kwar = {}\n",
        "    cpu = torch.device(\"cpu\")\n",
        "\n",
        "np.random.seed(551)"
      ],
      "execution_count": 4,
      "outputs": []
    },
    {
      "cell_type": "code",
      "metadata": {
        "id": "SdOcW1YWtJ4z",
        "colab_type": "code",
        "colab": {}
      },
      "source": [
        "images_path = 'data64/data64'\n",
        "labels_path = '/content/drive/My Drive/train_new.csv'\n",
        "test_path = '/content/drive/My Drive/test_new.csv'"
      ],
      "execution_count": 5,
      "outputs": []
    },
    {
      "cell_type": "markdown",
      "metadata": {
        "id": "kjVZWEZTsd-t",
        "colab_type": "text"
      },
      "source": [
        "## **Prepare train data**"
      ]
    },
    {
      "cell_type": "code",
      "metadata": {
        "id": "l2iQ507GuJhP",
        "colab_type": "code",
        "colab": {}
      },
      "source": [
        "train_df = pd.read_csv(labels_path)\n",
        "#train_df"
      ],
      "execution_count": 6,
      "outputs": []
    },
    {
      "cell_type": "code",
      "metadata": {
        "id": "eMqrPhH13yau",
        "colab_type": "code",
        "colab": {}
      },
      "source": [
        "frontal = list(map(str, train_df[train_df['label']=='frontal']['target_name'])) \n",
        "lateral = list(map(str, train_df[train_df['label']=='lateral']['target_name']))"
      ],
      "execution_count": 7,
      "outputs": []
    },
    {
      "cell_type": "code",
      "metadata": {
        "id": "D-yw2ZZQ3UqI",
        "colab_type": "code",
        "colab": {}
      },
      "source": [
        "images = np.concatenate([frontal, lateral])\n",
        "image_names = []\n",
        "image_labels = {}\n",
        "\n",
        "for image in images:\n",
        "    image_name = images_path + '/' + image\n",
        "    if image in frontal:\n",
        "        image_labels.update({image_name: 1})\n",
        "    else:\n",
        "        image_labels.update({image_name: 0})\n",
        "    image_names.append(image_name)"
      ],
      "execution_count": 8,
      "outputs": []
    },
    {
      "cell_type": "code",
      "metadata": {
        "id": "WBAG30i3iZ6y",
        "colab_type": "code",
        "colab": {}
      },
      "source": [
        "##SERGE\n",
        "\n",
        "resized_images = {}\n",
        "\n",
        "for image_name in image_names:\n",
        "    resized_images[image_name] = np.asarray(Image.open(image_name).convert(\"L\")) / 256"
      ],
      "execution_count": 9,
      "outputs": []
    },
    {
      "cell_type": "code",
      "metadata": {
        "id": "WBIaE34iX_Kl",
        "colab_type": "code",
        "colab": {
          "base_uri": "https://localhost:8080/",
          "height": 286
        },
        "outputId": "675d2da5-3ee7-4670-f374-6d0db0182e55"
      },
      "source": [
        "for i, k in enumerate(resized_images):\n",
        "    if i == 0:\n",
        "        print(resized_images[k].shape)\n",
        "        plt.imshow(resized_images[k], cmap='gray')\n",
        "        break"
      ],
      "execution_count": 10,
      "outputs": [
        {
          "output_type": "stream",
          "text": [
            "(64, 64)\n"
          ],
          "name": "stdout"
        },
        {
          "output_type": "display_data",
          "data": {
            "image/png": "[encoded data removed]",
            "text/plain": [
              "<Figure size 432x288 with 1 Axes>"
            ]
          },
          "metadata": {
            "tags": [],
            "needs_background": "light"
          }
        }
      ]
    },
    {
      "cell_type": "code",
      "metadata": {
        "id": "Jyvdf17sNMz_",
        "colab_type": "code",
        "colab": {}
      },
      "source": [
        "##SERGE\n",
        "\n",
        "class LungsClassificationDataset(Dataset):\n",
        "    def __init__(self, image_names, resized_images, image_labels):\n",
        "        self.image_names = image_names\n",
        "        self.resized_images = resized_images\n",
        "        self.image_labels = image_labels\n",
        "                                            \n",
        "    def __len__(self):\n",
        "        return len(self.image_names)\n",
        "        \n",
        "    def __getitem__(self, index):\n",
        "        image_path = self.image_names[index]\n",
        "\n",
        "        image_0 = self.resized_images[image_path]\n",
        "        label = self.image_labels[image_path]\n",
        "\n",
        "        image = torch.tensor(image_0)\n",
        "        label = torch.tensor(label)\n",
        "  \n",
        "        return {'image':image, 'label':label}"
      ],
      "execution_count": 11,
      "outputs": []
    },
    {
      "cell_type": "code",
      "metadata": {
        "id": "dEaoEeCBMDin",
        "colab_type": "code",
        "colab": {}
      },
      "source": [
        "train_image_names, val_image_names = train_test_split(image_names, test_size=0.2)\n",
        "\n",
        "train = LungsClassificationDataset(train_image_names, resized_images, image_labels)\n",
        "validation = LungsClassificationDataset(val_image_names, resized_images, image_labels)"
      ],
      "execution_count": 12,
      "outputs": []
    },
    {
      "cell_type": "code",
      "metadata": {
        "id": "NmFyajIkn12e",
        "colab_type": "code",
        "colab": {}
      },
      "source": [
        "imageWidth, imageHeight = train[0]['image'].shape"
      ],
      "execution_count": 13,
      "outputs": []
    },
    {
      "cell_type": "code",
      "metadata": {
        "id": "rMUi4X9yx-Bf",
        "colab_type": "code",
        "colab": {
          "base_uri": "https://localhost:8080/",
          "height": 286
        },
        "outputId": "128035d3-1db2-4b86-c8ac-582332395235"
      },
      "source": [
        "sample = train[5]\n",
        "plt.imshow(sample['image'], cmap='bone')\n",
        "print(sample['label'])"
      ],
      "execution_count": 15,
      "outputs": [
        {
          "output_type": "stream",
          "text": [
            "tensor(0)\n"
          ],
          "name": "stdout"
        },
        {
          "output_type": "display_data",
          "data": {
            "image/png": "[encoded data removed]",
            "text/plain": [
              "<Figure size 432x288 with 1 Axes>"
            ]
          },
          "metadata": {
            "tags": [],
            "needs_background": "light"
          }
        }
      ]
    },
    {
      "cell_type": "markdown",
      "metadata": {
        "id": "f53DkGGsOM0O",
        "colab_type": "text"
      },
      "source": [
        "## **Model Architecture**"
      ]
    },
    {
      "cell_type": "code",
      "metadata": {
        "id": "299il9RS7ErZ",
        "colab_type": "code",
        "colab": {}
      },
      "source": [
        "class LungModel(nn.Module):\n",
        "    def __init__(self,width,height): \n",
        "        super(LungModel,self).__init__()  \n",
        "\n",
        "        numConvs1 = 8\n",
        "        numConvs2 = 16\n",
        "        numConvs3 = 32\n",
        "        numConvs4 = 64\n",
        "        numConvs5 = 256\n",
        "        convSize = 3\n",
        "       \n",
        "        self.cnv1 = nn.Conv2d(in_channels=1, out_channels=numConvs1, kernel_size=convSize)\n",
        "        self.cnv2 = nn.Conv2d(in_channels=numConvs1, out_channels=numConvs2, kernel_size=convSize)\n",
        "        self.maxpool1 = nn.MaxPool2d(kernel_size=2)\n",
        "        self.cnv3 = nn.Conv2d(in_channels=numConvs2, out_channels=numConvs3, kernel_size=convSize)\n",
        "        self.cnv4 = nn.Conv2d(in_channels=numConvs3, out_channels=numConvs4, kernel_size=convSize)\n",
        "        self.maxpool2 = nn.MaxPool2d(kernel_size=2)\n",
        "        self.dropout2d = nn.Dropout2d(0.25)\n",
        "        self.cnv5 = nn.Conv2d(in_channels=numConvs4, out_channels=numConvs4, kernel_size=convSize)\n",
        "        self.maxpool3 = nn.MaxPool2d(kernel_size=2)\n",
        "\n",
        "        denseSize1 = 512\n",
        "        denseSize2 = 100\n",
        "      \n",
        "        self.dense1 = nn.Linear(64*13*13, denseSize1)\n",
        "        self.dense2 = nn.Linear(denseSize1, denseSize2)\n",
        "        self.dense3 = nn.Linear(denseSize2, 1)\n",
        "        self.dropout = nn.Dropout(0.25)\n",
        "        \n",
        "    def forward(self,x):\n",
        "\n",
        "        #print(self.cnv1(x).shape)\n",
        "        x = F.elu(self.cnv1(x))\n",
        "        x = F.elu(self.cnv2(x))\n",
        "        #print(self.maxpool1(x).shape)\n",
        "        x = self.maxpool1(x)\n",
        "        #x = self.dropout2d(x)\n",
        "        #print(self.cnv2(x).shape)\n",
        "        x = F.elu(self.cnv3(x))\n",
        "        x = F.elu(self.cnv4(x))\n",
        "        #print(self.maxpool2(x).shape)\n",
        "        x = self.maxpool2(x)\n",
        "        #print(self.dropout2d(x).shape)\n",
        "        #x = self.dropout2d(x)\n",
        "        #x = F.elu(self.cnv5(x))\n",
        "        #print(self.maxpool3(x).shape)\n",
        "        #x = self.maxpool3(x)\n",
        "        x = x.view(-1,self.num_flat_features(x))\n",
        "        #print(self.dense1(x).shape)\n",
        "        x = F.elu(self.dense1(x)) \n",
        "        x = self.dropout(x)\n",
        "        x = F.elu(self.dense2(x)) \n",
        "        x = self.dropout(x)\n",
        "        x = self.dense3(x)        \n",
        "        return x\n",
        "\n",
        "    def num_flat_features(self, x):\n",
        "        size = x.size()[1:]\n",
        "        num_features = 1\n",
        "        for s in size:\n",
        "            num_features *= s\n",
        "        return num_features"
      ],
      "execution_count": 14,
      "outputs": []
    },
    {
      "cell_type": "code",
      "metadata": {
        "id": "37WBDFix9Air",
        "colab_type": "code",
        "colab": {}
      },
      "source": [
        "model = LungModel(imageWidth, imageHeight).to(dev)"
      ],
      "execution_count": 15,
      "outputs": []
    },
    {
      "cell_type": "code",
      "metadata": {
        "id": "5jP7s8ss90le",
        "colab_type": "code",
        "colab": {}
      },
      "source": [
        "train_loader = DataLoader(train, batch_size=50, shuffle=True, drop_last=True)\n",
        "val_loader = DataLoader(validation, batch_size=50, shuffle=True, drop_last=True)\n",
        "criterion = torch.nn.BCEWithLogitsLoss()\n",
        "optimizer = optim.Adam(model.parameters(), lr=3e-4)"
      ],
      "execution_count": 16,
      "outputs": []
    },
    {
      "cell_type": "code",
      "metadata": {
        "id": "tDj_vvVK8re5",
        "colab_type": "code",
        "colab": {
          "base_uri": "https://localhost:8080/",
          "height": 34
        },
        "outputId": "0b5603a0-dd86-440e-d6de-85e10815ff4a"
      },
      "source": [
        "import time\n",
        "print(time.time())"
      ],
      "execution_count": 18,
      "outputs": [
        {
          "output_type": "stream",
          "text": [
            "1596525071.082724\n"
          ],
          "name": "stdout"
        }
      ]
    },
    {
      "cell_type": "code",
      "metadata": {
        "id": "L1DRbMyjpKUj",
        "colab_type": "code",
        "colab": {
          "base_uri": "https://localhost:8080/",
          "height": 897
        },
        "outputId": "b052b848-61c7-4935-fa4a-ccfed825d2c5"
      },
      "source": [
        "num_epochs = 10\n",
        "\n",
        "t = time.time() \n",
        "\n",
        "for epoch in range(num_epochs):\n",
        "\n",
        "    model.train()\n",
        "    train_loss = 0\n",
        "    time_start = time.time()\n",
        "\n",
        "    for sample_idx, sample in enumerate(train_loader):\n",
        "        image, label = sample['image'].unsqueeze(1).float(), sample['label'].unsqueeze(1).float()\n",
        "        image, label = image.to(dev), label.to(dev)\n",
        "\n",
        "        prediction = model(image)\n",
        "\n",
        "        optimizer.zero_grad()\n",
        "        loss = criterion(prediction, label)\n",
        "        loss.backward()\n",
        "        optimizer.step() \n",
        "\n",
        "        train_loss += loss.item()\n",
        "\n",
        "        if sample_idx % 100 == 0:\n",
        "            print(loss.item())\n",
        "\n",
        "    val_loss = 0\n",
        "    model.eval()\n",
        "\n",
        "    with torch.no_grad():\n",
        "        for sample in val_loader:\n",
        "            image, label = sample['image'].unsqueeze(1).float(), sample['label'].unsqueeze(1).float()\n",
        "            image, label = image.to(dev), label.to(dev)\n",
        "            prediction = model(image)\n",
        "\n",
        "            optimizer.zero_grad()\n",
        "            loss = criterion(prediction, label)\n",
        "            val_loss += loss.item()\n",
        "\n",
        "    train_loss /= len(train_loader)\n",
        "    val_loss /= len(val_loader)\n",
        "\n",
        "    print(f\"Epoch: {epoch}; Time Epoch: {time.time() - time_start}\\nTraining Loss: {train_loss}\\nValidation Loss: {val_loss}\\n-----\")\n"
      ],
      "execution_count": 19,
      "outputs": [
        {
          "output_type": "stream",
          "text": [
            "0.6911119222640991\n",
            "Epoch: 0; Time Epoch: 1.8550136089324951\n",
            "Training Loss: 0.15930752211716026\n",
            "Validation Loss: 0.050114484426255025\n",
            "-----\n",
            "0.02743666060268879\n",
            "Epoch: 1; Time Epoch: 1.522911548614502\n",
            "Training Loss: 0.04703667192427697\n",
            "Validation Loss: 0.04561674090412756\n",
            "-----\n",
            "0.018402099609375\n",
            "Epoch: 2; Time Epoch: 1.5204384326934814\n",
            "Training Loss: 0.04168301416497093\n",
            "Validation Loss: 0.037790510221384466\n",
            "-----\n",
            "0.16761092841625214\n",
            "Epoch: 3; Time Epoch: 1.518261194229126\n",
            "Training Loss: 0.02911968878926892\n",
            "Validation Loss: 0.031118406642538805\n",
            "-----\n",
            "0.0010087683331221342\n",
            "Epoch: 4; Time Epoch: 1.516425609588623\n",
            "Training Loss: 0.02272742519362866\n",
            "Validation Loss: 0.023163561777134117\n",
            "-----\n",
            "0.005378338508307934\n",
            "Epoch: 5; Time Epoch: 1.5226764678955078\n",
            "Training Loss: 0.018987655199096336\n",
            "Validation Loss: 0.0206305871057945\n",
            "-----\n",
            "0.01706530712544918\n",
            "Epoch: 6; Time Epoch: 1.528703212738037\n",
            "Training Loss: 0.011069613585349027\n",
            "Validation Loss: 0.032649233187839855\n",
            "-----\n",
            "0.0006005359464325011\n",
            "Epoch: 7; Time Epoch: 1.5271058082580566\n",
            "Training Loss: 0.005868308344717804\n",
            "Validation Loss: 0.015902897239963448\n",
            "-----\n",
            "0.0014292621053755283\n",
            "Epoch: 8; Time Epoch: 1.5239758491516113\n",
            "Training Loss: 0.004759287827451486\n",
            "Validation Loss: 0.023715529491407022\n",
            "-----\n",
            "0.0005972211365588009\n",
            "Epoch: 9; Time Epoch: 1.5231237411499023\n",
            "Training Loss: 0.004166522527852708\n",
            "Validation Loss: 0.03761807126299269\n",
            "-----\n"
          ],
          "name": "stdout"
        }
      ]
    },
    {
      "cell_type": "markdown",
      "metadata": {
        "id": "GOSMHP4EEEu-",
        "colab_type": "text"
      },
      "source": [
        "## **Prepare test data**"
      ]
    },
    {
      "cell_type": "code",
      "metadata": {
        "id": "BuDVkXHr_oOI",
        "colab_type": "code",
        "colab": {
          "base_uri": "https://localhost:8080/",
          "height": 402
        },
        "outputId": "bb6503d4-6423-4154-e0e0-745abfc6763d"
      },
      "source": [
        "test_df = pd.read_csv(test_path)\n",
        "test_df"
      ],
      "execution_count": 58,
      "outputs": [
        {
          "output_type": "execute_result",
          "data": {
            "text/html": [
              "<div>\n",
              "<style scoped>\n",
              "    .dataframe tbody tr th:only-of-type {\n",
              "        vertical-align: middle;\n",
              "    }\n",
              "\n",
              "    .dataframe tbody tr th {\n",
              "        vertical-align: top;\n",
              "    }\n",
              "\n",
              "    .dataframe thead th {\n",
              "        text-align: right;\n",
              "    }\n",
              "</style>\n",
              "<table border=\"1\" class=\"dataframe\">\n",
              "  <thead>\n",
              "    <tr style=\"text-align: right;\">\n",
              "      <th></th>\n",
              "      <th>Unnamed: 0</th>\n",
              "      <th>target_name</th>\n",
              "    </tr>\n",
              "  </thead>\n",
              "  <tbody>\n",
              "    <tr>\n",
              "      <th>0</th>\n",
              "      <td>0</td>\n",
              "      <td>patient00012study2view2.png</td>\n",
              "    </tr>\n",
              "    <tr>\n",
              "      <th>1</th>\n",
              "      <td>1</td>\n",
              "      <td>patient00016study1view2.png</td>\n",
              "    </tr>\n",
              "    <tr>\n",
              "      <th>2</th>\n",
              "      <td>2</td>\n",
              "      <td>patient00023study2view2.png</td>\n",
              "    </tr>\n",
              "    <tr>\n",
              "      <th>3</th>\n",
              "      <td>3</td>\n",
              "      <td>patient00023study9view2.png</td>\n",
              "    </tr>\n",
              "    <tr>\n",
              "      <th>4</th>\n",
              "      <td>4</td>\n",
              "      <td>patient00080study7view2.png</td>\n",
              "    </tr>\n",
              "    <tr>\n",
              "      <th>...</th>\n",
              "      <td>...</td>\n",
              "      <td>...</td>\n",
              "    </tr>\n",
              "    <tr>\n",
              "      <th>795</th>\n",
              "      <td>795</td>\n",
              "      <td>patient03368study1view2.png</td>\n",
              "    </tr>\n",
              "    <tr>\n",
              "      <th>796</th>\n",
              "      <td>796</td>\n",
              "      <td>patient01121study6view1.png</td>\n",
              "    </tr>\n",
              "    <tr>\n",
              "      <th>797</th>\n",
              "      <td>797</td>\n",
              "      <td>patient00480study12view1.png</td>\n",
              "    </tr>\n",
              "    <tr>\n",
              "      <th>798</th>\n",
              "      <td>798</td>\n",
              "      <td>patient06861study1view1.png</td>\n",
              "    </tr>\n",
              "    <tr>\n",
              "      <th>799</th>\n",
              "      <td>799</td>\n",
              "      <td>patient01385study8view1.png</td>\n",
              "    </tr>\n",
              "  </tbody>\n",
              "</table>\n",
              "<p>800 rows × 2 columns</p>\n",
              "</div>"
            ],
            "text/plain": [
              "     Unnamed: 0                   target_name\n",
              "0             0   patient00012study2view2.png\n",
              "1             1   patient00016study1view2.png\n",
              "2             2   patient00023study2view2.png\n",
              "3             3   patient00023study9view2.png\n",
              "4             4   patient00080study7view2.png\n",
              "..          ...                           ...\n",
              "795         795   patient03368study1view2.png\n",
              "796         796   patient01121study6view1.png\n",
              "797         797  patient00480study12view1.png\n",
              "798         798   patient06861study1view1.png\n",
              "799         799   patient01385study8view1.png\n",
              "\n",
              "[800 rows x 2 columns]"
            ]
          },
          "metadata": {
            "tags": []
          },
          "execution_count": 58
        }
      ]
    },
    {
      "cell_type": "code",
      "metadata": {
        "id": "iZw_25-u_1DE",
        "colab_type": "code",
        "colab": {}
      },
      "source": [
        "images = list(map(str, test_df['target_name']))\n",
        "test_image_names = []\n",
        "\n",
        "for image in images:\n",
        "    image_name = images_path + '/' + image\n",
        "    test_image_names.append(image_name)"
      ],
      "execution_count": 59,
      "outputs": []
    },
    {
      "cell_type": "code",
      "metadata": {
        "id": "hdfvcaRkEOj_",
        "colab_type": "code",
        "colab": {}
      },
      "source": [
        "nTestData = len(test_image_names)"
      ],
      "execution_count": 22,
      "outputs": []
    },
    {
      "cell_type": "code",
      "metadata": {
        "id": "14KX_X6rZCWT",
        "colab_type": "code",
        "colab": {}
      },
      "source": [
        "##SERGE\n",
        "\n",
        "resized_images = {}\n",
        "\n",
        "for image_name in test_image_names:\n",
        "    resized_images[image_name] = np.asarray(Image.open(image_name).convert(\"L\")) / 256"
      ],
      "execution_count": 60,
      "outputs": []
    },
    {
      "cell_type": "code",
      "metadata": {
        "id": "zv-juk1QZY4B",
        "colab_type": "code",
        "colab": {
          "base_uri": "https://localhost:8080/",
          "height": 286
        },
        "outputId": "d964a34a-b086-4acc-c258-fc170f712838"
      },
      "source": [
        "for i, k in enumerate(resized_images):\n",
        "    if i == 0:\n",
        "        print(resized_images[k].shape)\n",
        "        plt.imshow(resized_images[k], cmap='gray')\n",
        "        break"
      ],
      "execution_count": 29,
      "outputs": [
        {
          "output_type": "stream",
          "text": [
            "(64, 64)\n"
          ],
          "name": "stdout"
        },
        {
          "output_type": "display_data",
          "data": {
            "image/png": "[encoded data removed]",
            "text/plain": [
              "<Figure size 432x288 with 1 Axes>"
            ]
          },
          "metadata": {
            "tags": [],
            "needs_background": "light"
          }
        }
      ]
    },
    {
      "cell_type": "code",
      "metadata": {
        "id": "wkRsgYfwfw6E",
        "colab_type": "code",
        "colab": {
          "base_uri": "https://localhost:8080/",
          "height": 34
        },
        "outputId": "a6b42c5f-63b9-4664-f0d9-ca43f59045e3"
      },
      "source": [
        "model(torch.tensor(resized_images[test_image_names[0]]).unsqueeze(0).unsqueeze(0).float().to(dev))"
      ],
      "execution_count": 42,
      "outputs": [
        {
          "output_type": "execute_result",
          "data": {
            "text/plain": [
              "tensor([[14.4084]], device='cuda:0', grad_fn=<AddmmBackward>)"
            ]
          },
          "metadata": {
            "tags": []
          },
          "execution_count": 42
        }
      ]
    },
    {
      "cell_type": "code",
      "metadata": {
        "id": "J3TDIvZFU27P",
        "colab_type": "code",
        "colab": {}
      },
      "source": [
        "correct = 0\n",
        "total = 0\n",
        "ans = []\n",
        "\n",
        "model.eval()\n",
        "\n",
        "with torch.no_grad():\n",
        "    for k in resized_images:\n",
        "        image = torch.tensor(resized_images[k]).unsqueeze(0).unsqueeze(0).float()\n",
        "        image = image.to(dev)\n",
        "        prediction = model(image)\n",
        "        prediction = torch.sigmoid(prediction)\n",
        "\n",
        "        ans.append(prediction.item())\n",
        "        print(prediction.item())                    "
      ],
      "execution_count": null,
      "outputs": []
    },
    {
      "cell_type": "code",
      "metadata": {
        "id": "ASsEMao3kpXc",
        "colab_type": "code",
        "colab": {}
      },
      "source": [
        "test_df.insert(1, 'label', ans)"
      ],
      "execution_count": 62,
      "outputs": []
    },
    {
      "cell_type": "code",
      "metadata": {
        "id": "5nuEROCCk-PZ",
        "colab_type": "code",
        "colab": {
          "base_uri": "https://localhost:8080/",
          "height": 402
        },
        "outputId": "75497071-cca6-492f-f045-30bcfa7268c9"
      },
      "source": [
        "test_df"
      ],
      "execution_count": 63,
      "outputs": [
        {
          "output_type": "execute_result",
          "data": {
            "text/html": [
              "<div>\n",
              "<style scoped>\n",
              "    .dataframe tbody tr th:only-of-type {\n",
              "        vertical-align: middle;\n",
              "    }\n",
              "\n",
              "    .dataframe tbody tr th {\n",
              "        vertical-align: top;\n",
              "    }\n",
              "\n",
              "    .dataframe thead th {\n",
              "        text-align: right;\n",
              "    }\n",
              "</style>\n",
              "<table border=\"1\" class=\"dataframe\">\n",
              "  <thead>\n",
              "    <tr style=\"text-align: right;\">\n",
              "      <th></th>\n",
              "      <th>Unnamed: 0</th>\n",
              "      <th>label</th>\n",
              "      <th>target_name</th>\n",
              "    </tr>\n",
              "  </thead>\n",
              "  <tbody>\n",
              "    <tr>\n",
              "      <th>0</th>\n",
              "      <td>0</td>\n",
              "      <td>6.294166e-14</td>\n",
              "      <td>patient00012study2view2.png</td>\n",
              "    </tr>\n",
              "    <tr>\n",
              "      <th>1</th>\n",
              "      <td>1</td>\n",
              "      <td>5.830955e-13</td>\n",
              "      <td>patient00016study1view2.png</td>\n",
              "    </tr>\n",
              "    <tr>\n",
              "      <th>2</th>\n",
              "      <td>2</td>\n",
              "      <td>7.061686e-14</td>\n",
              "      <td>patient00023study2view2.png</td>\n",
              "    </tr>\n",
              "    <tr>\n",
              "      <th>3</th>\n",
              "      <td>3</td>\n",
              "      <td>7.828312e-15</td>\n",
              "      <td>patient00023study9view2.png</td>\n",
              "    </tr>\n",
              "    <tr>\n",
              "      <th>4</th>\n",
              "      <td>4</td>\n",
              "      <td>8.405668e-01</td>\n",
              "      <td>patient00080study7view2.png</td>\n",
              "    </tr>\n",
              "    <tr>\n",
              "      <th>...</th>\n",
              "      <td>...</td>\n",
              "      <td>...</td>\n",
              "      <td>...</td>\n",
              "    </tr>\n",
              "    <tr>\n",
              "      <th>795</th>\n",
              "      <td>795</td>\n",
              "      <td>1.000000e+00</td>\n",
              "      <td>patient03368study1view2.png</td>\n",
              "    </tr>\n",
              "    <tr>\n",
              "      <th>796</th>\n",
              "      <td>796</td>\n",
              "      <td>9.999998e-01</td>\n",
              "      <td>patient01121study6view1.png</td>\n",
              "    </tr>\n",
              "    <tr>\n",
              "      <th>797</th>\n",
              "      <td>797</td>\n",
              "      <td>1.000000e+00</td>\n",
              "      <td>patient00480study12view1.png</td>\n",
              "    </tr>\n",
              "    <tr>\n",
              "      <th>798</th>\n",
              "      <td>798</td>\n",
              "      <td>9.999989e-01</td>\n",
              "      <td>patient06861study1view1.png</td>\n",
              "    </tr>\n",
              "    <tr>\n",
              "      <th>799</th>\n",
              "      <td>799</td>\n",
              "      <td>9.999951e-01</td>\n",
              "      <td>patient01385study8view1.png</td>\n",
              "    </tr>\n",
              "  </tbody>\n",
              "</table>\n",
              "<p>800 rows × 3 columns</p>\n",
              "</div>"
            ],
            "text/plain": [
              "     Unnamed: 0         label                   target_name\n",
              "0             0  6.294166e-14   patient00012study2view2.png\n",
              "1             1  5.830955e-13   patient00016study1view2.png\n",
              "2             2  7.061686e-14   patient00023study2view2.png\n",
              "3             3  7.828312e-15   patient00023study9view2.png\n",
              "4             4  8.405668e-01   patient00080study7view2.png\n",
              "..          ...           ...                           ...\n",
              "795         795  1.000000e+00   patient03368study1view2.png\n",
              "796         796  9.999998e-01   patient01121study6view1.png\n",
              "797         797  1.000000e+00  patient00480study12view1.png\n",
              "798         798  9.999989e-01   patient06861study1view1.png\n",
              "799         799  9.999951e-01   patient01385study8view1.png\n",
              "\n",
              "[800 rows x 3 columns]"
            ]
          },
          "metadata": {
            "tags": []
          },
          "execution_count": 63
        }
      ]
    },
    {
      "cell_type": "code",
      "metadata": {
        "id": "pfZ3_hfMmr1d",
        "colab_type": "code",
        "colab": {}
      },
      "source": [
        "test_df.to_csv(r'ans_csv.csv')"
      ],
      "execution_count": 64,
      "outputs": []
    }
  ]
}