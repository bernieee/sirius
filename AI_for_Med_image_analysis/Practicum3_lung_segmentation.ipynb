{
  "nbformat": 4,
  "nbformat_minor": 0,
  "metadata": {
    "kernelspec": {
      "display_name": "Python 3",
      "language": "python",
      "name": "python3"
    },
    "language_info": {
      "codemirror_mode": {
        "name": "ipython",
        "version": 3
      },
      "file_extension": ".py",
      "mimetype": "text/x-python",
      "name": "python",
      "nbconvert_exporter": "python",
      "pygments_lexer": "ipython3",
      "version": "3.7.6"
    },
    "latex_envs": {
      "LaTeX_envs_menu_present": true,
      "autoclose": false,
      "autocomplete": true,
      "bibliofile": "biblio.bib",
      "cite_by": "apalike",
      "current_citInitial": 1,
      "eqLabelWithNumbers": true,
      "eqNumInitial": 1,
      "hotkeys": {
        "equation": "Ctrl-E",
        "itemize": "Ctrl-I"
      },
      "labels_anchors": false,
      "latex_user_defs": false,
      "report_style_numbering": false,
      "user_envs_cfg": false
    },
    "varInspector": {
      "cols": {
        "lenName": 16,
        "lenType": 16,
        "lenVar": 40
      },
      "kernels_config": {
        "python": {
          "delete_cmd_postfix": "",
          "delete_cmd_prefix": "del ",
          "library": "var_list.py",
          "varRefreshCmd": "print(var_dic_list())"
        },
        "r": {
          "delete_cmd_postfix": ") ",
          "delete_cmd_prefix": "rm(",
          "library": "var_list.r",
          "varRefreshCmd": "cat(var_dic_list()) "
        }
      },
      "types_to_exclude": [
        "module",
        "function",
        "builtin_function_or_method",
        "instance",
        "_Feature"
      ],
      "window_display": false
    },
    "colab": {
      "name": "Practicum3_lung_segmentation.ipynb",
      "provenance": [],
      "collapsed_sections": [],
      "include_colab_link": true
    }
  },
  "cells": [
    {
      "cell_type": "markdown",
      "metadata": {
        "id": "view-in-github",
        "colab_type": "text"
      },
      "source": [
        "<a href=\"https://colab.research.google.com/github/bernieee/SIRIUS/blob/master/AI_for_Med_image_analysis/Practicum3_lung_segmentation.ipynb\" target=\"_parent\"><img src=\"https://colab.research.google.com/assets/colab-badge.svg\" alt=\"Open In Colab\"/></a>"
      ]
    },
    {
      "cell_type": "markdown",
      "metadata": {
        "id": "EGEd_fZ1qXpz",
        "colab_type": "text"
      },
      "source": [
        "## This is the second practical task of Sirius summer school \"Applying AI for Med image analysis\". \n",
        "Practical tasks take form of jupyter notebook with example code in the begging and some tasks in the end. Please, provide your solution in form of python code. Read hints, google a lot, don't hesitate to ask us directyl and most importatly - \n",
        "<span style=\"color:blue\">have fun</span>.\n"
      ]
    },
    {
      "cell_type": "markdown",
      "metadata": {
        "id": "w3T6QoH8qXp0",
        "colab_type": "text"
      },
      "source": [
        "**Topic**: Deep learning segmentation \n",
        "\n",
        "**To submit**: New version of the notebook, with your code. "
      ]
    },
    {
      "cell_type": "markdown",
      "metadata": {
        "id": "VVlj2HtYqXp1",
        "colab_type": "text"
      },
      "source": [
        "Loading dataset for segmentation is a bit different from simple classification. Below is full dataset class, which loads image and corresponding segmentation mask. "
      ]
    },
    {
      "cell_type": "code",
      "metadata": {
        "id": "RMN3J2a-qXp1",
        "colab_type": "code",
        "colab": {
          "base_uri": "https://localhost:8080/",
          "height": 69
        },
        "outputId": "bae1e291-21c6-4632-dd2d-293fc6c622dd"
      },
      "source": [
        "#to read mask files\n",
        "!pip install imageio \n"
      ],
      "execution_count": 1,
      "outputs": [
        {
          "output_type": "stream",
          "text": [
            "Requirement already satisfied: imageio in /usr/local/lib/python3.6/dist-packages (2.4.1)\n",
            "Requirement already satisfied: numpy in /usr/local/lib/python3.6/dist-packages (from imageio) (1.18.5)\n",
            "Requirement already satisfied: pillow in /usr/local/lib/python3.6/dist-packages (from imageio) (7.0.0)\n"
          ],
          "name": "stdout"
        }
      ]
    },
    {
      "cell_type": "code",
      "metadata": {
        "id": "faVkYvyXrWfs",
        "colab_type": "code",
        "colab": {
          "base_uri": "https://localhost:8080/",
          "height": 124
        },
        "outputId": "62a17145-880a-4507-d4d3-564c92b12879"
      },
      "source": [
        "from google.colab import drive\n",
        "drive.mount('/content/drive')"
      ],
      "execution_count": 2,
      "outputs": [
        {
          "output_type": "stream",
          "text": [
            "Go to this URL in a browser: https://accounts.google.com/o/oauth2/auth?client_id=947318989803-6bn6qk8qdgf4n4g3pfee6491hc0brc4i.apps.googleusercontent.com&redirect_uri=urn%3aietf%3awg%3aoauth%3a2.0%3aoob&response_type=code&scope=email%20https%3a%2f%2fwww.googleapis.com%2fauth%2fdocs.test%20https%3a%2f%2fwww.googleapis.com%2fauth%2fdrive%20https%3a%2f%2fwww.googleapis.com%2fauth%2fdrive.photos.readonly%20https%3a%2f%2fwww.googleapis.com%2fauth%2fpeopleapi.readonly\n",
            "\n",
            "Enter your authorization code:\n",
            "··········\n",
            "Mounted at /content/drive\n"
          ],
          "name": "stdout"
        }
      ]
    },
    {
      "cell_type": "code",
      "metadata": {
        "id": "yqjW-SDsrBpc",
        "colab_type": "code",
        "colab": {}
      },
      "source": [
        "path = '/content/drive/My Drive/Sirius 2020/'"
      ],
      "execution_count": null,
      "outputs": []
    },
    {
      "cell_type": "code",
      "metadata": {
        "id": "EvcawPYOqXp4",
        "colab_type": "code",
        "colab": {}
      },
      "source": [
        "import numpy as np\n",
        "import imageio\n",
        "import torch\n",
        "from torch.utils.data import Dataset,DataLoader\n",
        "import os \n",
        "import matplotlib.pyplot as plt\n",
        "import albumentations as albu\n",
        "from albumentations.core.composition import Compose\n",
        "from albumentations.pytorch import ToTensor\n",
        "from sklearn.model_selection import train_test_split\n",
        "\n",
        "class LungSegmentationDataset(Dataset):\n",
        "    def __init__(self,image_list,augmentations=None,transformations=None):\n",
        "        self.path = \"/content/drive/My Drive/Sirius 2020/data/Lung images from Bram\"\n",
        "        self.images = image_list\n",
        "        self.augmentations = augmentations\n",
        "        self.transformations = transformations\n",
        "        \n",
        "    def __len__(self):\n",
        "        return len(self.images)\n",
        "    \n",
        "    def __getitem__(self,index):\n",
        "        filename = self.images[index]\n",
        "        image = imageio.imread(os.path.join(self.path,\"Images/\"+filename))\n",
        "        mask_name = filename.split(\".\")[0]+\".gif\"\n",
        "        left_lung = imageio.imread(os.path.join(self.path,\"scratch/masks/left lung/\"+mask_name))\n",
        "        right_lung = imageio.imread(os.path.join(self.path,\"scratch/masks/right lung/\"+mask_name))\n",
        "        lungs = left_lung + right_lung\n",
        "        result = {\"image\":image,\"mask\":lungs}\n",
        "        \n",
        "        if self.transformations:\n",
        "            result = self.transformations(**result)\n",
        "            \n",
        "        if self.augmentations:\n",
        "            result = self.augmentations(**result)\n",
        "        return result\n",
        "  "
      ],
      "execution_count": 48,
      "outputs": []
    },
    {
      "cell_type": "code",
      "metadata": {
        "id": "bWczuJpvqXp7",
        "colab_type": "code",
        "colab": {}
      },
      "source": [
        "images = os.listdir(\"/content/drive/My Drive/Sirius 2020/data/Lung images from Bram/Images\")\n",
        "transorms = Compose([albu.augmentations.transforms.Resize(224,224),ToTensor()])\n",
        "#HINT: to combine augmentations or transforms use albumentations.core.composition.Compose\n",
        "train,test = train_test_split(images,test_size=0.2)\n",
        "train = LungSegmentationDataset(train,transformations=transorms)\n",
        "test = LungSegmentationDataset(test,transformations=transorms) #do not apply augmentations to test set"
      ],
      "execution_count": 49,
      "outputs": []
    },
    {
      "cell_type": "code",
      "metadata": {
        "id": "YiNXm9ksqXp_",
        "colab_type": "code",
        "colab": {
          "base_uri": "https://localhost:8080/",
          "height": 538
        },
        "outputId": "7f495b62-cd17-44ee-a6f9-b54343014be2"
      },
      "source": [
        "#Visualization\n",
        "sample = train[0]\n",
        "plt.imshow(sample['image'][0])\n",
        "plt.show()\n",
        "plt.imshow(sample['mask'][0])"
      ],
      "execution_count": 42,
      "outputs": [
        {
          "output_type": "display_data",
          "data": {
            "image/png": "[encoded data removed]",
            "text/plain": [
              "<Figure size 432x288 with 1 Axes>"
            ]
          },
          "metadata": {
            "tags": [],
            "needs_background": "light"
          }
        },
        {
          "output_type": "execute_result",
          "data": {
            "text/plain": [
              "<matplotlib.image.AxesImage at 0x7f02f6070358>"
            ]
          },
          "metadata": {
            "tags": []
          },
          "execution_count": 42
        },
        {
          "output_type": "display_data",
          "data": {
            "image/png": "[encoded data removed]",
            "text/plain": [
              "<Figure size 432x288 with 1 Axes>"
            ]
          },
          "metadata": {
            "tags": [],
            "needs_background": "light"
          }
        }
      ]
    },
    {
      "cell_type": "code",
      "metadata": {
        "id": "BRcLTiJP7Ut4",
        "colab_type": "code",
        "colab": {
          "base_uri": "https://localhost:8080/",
          "height": 418
        },
        "outputId": "539c3d29-3542-4fc4-bffd-4b11b252d836"
      },
      "source": [
        "np.round(sample['image'])"
      ],
      "execution_count": 45,
      "outputs": [
        {
          "output_type": "execute_result",
          "data": {
            "text/plain": [
              "tensor([[[0., 0., 0.,  ..., 0., 0., 0.],\n",
              "         [0., 0., 0.,  ..., 0., 0., 0.],\n",
              "         [0., 0., 0.,  ..., 0., 0., 0.],\n",
              "         ...,\n",
              "         [0., 0., 0.,  ..., 0., 0., 0.],\n",
              "         [0., 0., 0.,  ..., 0., 0., 0.],\n",
              "         [0., 0., 0.,  ..., 0., 0., 0.]],\n",
              "\n",
              "        [[0., 0., 0.,  ..., 0., 0., 0.],\n",
              "         [0., 0., 0.,  ..., 0., 0., 0.],\n",
              "         [0., 0., 0.,  ..., 0., 0., 0.],\n",
              "         ...,\n",
              "         [0., 0., 0.,  ..., 0., 0., 0.],\n",
              "         [0., 0., 0.,  ..., 0., 0., 0.],\n",
              "         [0., 0., 0.,  ..., 0., 0., 0.]],\n",
              "\n",
              "        [[0., 0., 0.,  ..., 0., 0., 0.],\n",
              "         [0., 0., 0.,  ..., 0., 0., 0.],\n",
              "         [0., 0., 0.,  ..., 0., 0., 0.],\n",
              "         ...,\n",
              "         [0., 0., 0.,  ..., 0., 0., 0.],\n",
              "         [0., 0., 0.,  ..., 0., 0., 0.],\n",
              "         [0., 0., 0.,  ..., 0., 0., 0.]]])"
            ]
          },
          "metadata": {
            "tags": []
          },
          "execution_count": 45
        }
      ]
    },
    {
      "cell_type": "code",
      "metadata": {
        "id": "SPGNC_E-r5nK",
        "colab_type": "code",
        "colab": {
          "base_uri": "https://localhost:8080/",
          "height": 508
        },
        "outputId": "705d924c-3cab-4ce0-c1b1-d0f7c11090fa"
      },
      "source": [
        "!pip install segmentation-models-pytorch"
      ],
      "execution_count": 6,
      "outputs": [
        {
          "output_type": "stream",
          "text": [
            "Collecting segmentation-models-pytorch\n",
            "\u001b[?25l  Downloading https://files.pythonhosted.org/packages/70/88/763a25dfe076a9f30f33466b1bd0f2d31b915b88d4cb4481fe4043cf26b4/segmentation_models_pytorch-0.1.0-py3-none-any.whl (42kB)\n",
            "\r\u001b[K     |███████▊                        | 10kB 17.3MB/s eta 0:00:01\r\u001b[K     |███████████████▍                | 20kB 1.7MB/s eta 0:00:01\r\u001b[K     |███████████████████████         | 30kB 2.2MB/s eta 0:00:01\r\u001b[K     |██████████████████████████████▊ | 40kB 2.5MB/s eta 0:00:01\r\u001b[K     |████████████████████████████████| 51kB 1.5MB/s \n",
            "\u001b[?25hRequirement already satisfied: torchvision>=0.3.0 in /usr/local/lib/python3.6/dist-packages (from segmentation-models-pytorch) (0.6.1+cu101)\n",
            "Collecting efficientnet-pytorch>=0.5.1\n",
            "  Downloading https://files.pythonhosted.org/packages/b8/cb/0309a6e3d404862ae4bc017f89645cf150ac94c14c88ef81d215c8e52925/efficientnet_pytorch-0.6.3.tar.gz\n",
            "Collecting pretrainedmodels==0.7.4\n",
            "\u001b[?25l  Downloading https://files.pythonhosted.org/packages/84/0e/be6a0e58447ac16c938799d49bfb5fb7a80ac35e137547fc6cee2c08c4cf/pretrainedmodels-0.7.4.tar.gz (58kB)\n",
            "\u001b[K     |████████████████████████████████| 61kB 3.2MB/s \n",
            "\u001b[?25hRequirement already satisfied: pillow>=4.1.1 in /usr/local/lib/python3.6/dist-packages (from torchvision>=0.3.0->segmentation-models-pytorch) (7.0.0)\n",
            "Requirement already satisfied: torch==1.5.1 in /usr/local/lib/python3.6/dist-packages (from torchvision>=0.3.0->segmentation-models-pytorch) (1.5.1+cu101)\n",
            "Requirement already satisfied: numpy in /usr/local/lib/python3.6/dist-packages (from torchvision>=0.3.0->segmentation-models-pytorch) (1.18.5)\n",
            "Collecting munch\n",
            "  Downloading https://files.pythonhosted.org/packages/cc/ab/85d8da5c9a45e072301beb37ad7f833cd344e04c817d97e0cc75681d248f/munch-2.5.0-py2.py3-none-any.whl\n",
            "Requirement already satisfied: tqdm in /usr/local/lib/python3.6/dist-packages (from pretrainedmodels==0.7.4->segmentation-models-pytorch) (4.41.1)\n",
            "Requirement already satisfied: future in /usr/local/lib/python3.6/dist-packages (from torch==1.5.1->torchvision>=0.3.0->segmentation-models-pytorch) (0.16.0)\n",
            "Requirement already satisfied: six in /usr/local/lib/python3.6/dist-packages (from munch->pretrainedmodels==0.7.4->segmentation-models-pytorch) (1.15.0)\n",
            "Building wheels for collected packages: efficientnet-pytorch, pretrainedmodels\n",
            "  Building wheel for efficientnet-pytorch (setup.py) ... \u001b[?25l\u001b[?25hdone\n",
            "  Created wheel for efficientnet-pytorch: filename=efficientnet_pytorch-0.6.3-cp36-none-any.whl size=12422 sha256=40aae880cba6f47624a1b2fbed9c4a493a30f032e7f8b7fcc8b09b4bf05cf58c\n",
            "  Stored in directory: /root/.cache/pip/wheels/42/1e/a9/2a578ba9ad04e776e80bf0f70d8a7f4c29ec0718b92d8f6ccd\n",
            "  Building wheel for pretrainedmodels (setup.py) ... \u001b[?25l\u001b[?25hdone\n",
            "  Created wheel for pretrainedmodels: filename=pretrainedmodels-0.7.4-cp36-none-any.whl size=60962 sha256=24bc822b29f2734d943fae5a92750f3145d3cf6cb4a78a7c6f437093abae0941\n",
            "  Stored in directory: /root/.cache/pip/wheels/69/df/63/62583c096289713f22db605aa2334de5b591d59861a02c2ecd\n",
            "Successfully built efficientnet-pytorch pretrainedmodels\n",
            "Installing collected packages: efficientnet-pytorch, munch, pretrainedmodels, segmentation-models-pytorch\n",
            "Successfully installed efficientnet-pytorch-0.6.3 munch-2.5.0 pretrainedmodels-0.7.4 segmentation-models-pytorch-0.1.0\n"
          ],
          "name": "stdout"
        }
      ]
    },
    {
      "cell_type": "markdown",
      "metadata": {
        "id": "Og0gKdkvqXqB",
        "colab_type": "text"
      },
      "source": [
        "## **Task 2:**\n",
        "- Your task is to create training loop and train some model to output segmentation. We won't judge model quality, just the corectness of training loop. To get some inspiration:\n",
        "- Given: Dataset class for lung segmentation\n",
        "- Do: Create training loop, which will fit **any** segmentation model with proper loss function. \n",
        "\n",
        "\n",
        "- https://www.learnopencv.com/pytorch-for-beginners-semantic-segmentation-using-torchvision/\n",
        "- https://medium.com/analytics-vidhya/pytorch-implementation-of-semantic-segmentation-for-single-class-from-scratch-81f96643c98c"
      ]
    },
    {
      "cell_type": "code",
      "metadata": {
        "id": "JvjRjpnqsHBh",
        "colab_type": "code",
        "colab": {}
      },
      "source": [
        "import segmentation_models_pytorch as smp\n",
        "\n",
        "model = smp.Unet('resnet34', classes=1)\n",
        "\n",
        "print(sample['image'].shape)\n",
        "print(sample['mask'].shape)\n",
        "print(sample['image'].unsqueeze(0).shape)\n",
        "res = model(sample['image'].unsqueeze(0))\n",
        "plt.imshow(res.detach().numpy()[0,0])"
      ],
      "execution_count": null,
      "outputs": []
    },
    {
      "cell_type": "code",
      "metadata": {
        "id": "1lN2JO6eJ3_Q",
        "colab_type": "code",
        "colab": {}
      },
      "source": [
        "from torch import optim\n",
        "import segmentation_models_pytorch as smp\n",
        "\n",
        "model = smp.Unet('resnet34', classes=1)\n",
        "\n",
        "#train = np.round(train)\n",
        "#test = np.round(test)\n",
        "\n",
        "train_loader = DataLoader(train,batch_size=30)\n",
        "criterion = torch.nn.BCELoss()\n",
        "optimizer = optim.SGD(model.parameters(), lr=0.01, momentum=0.9)\n"
      ],
      "execution_count": 51,
      "outputs": []
    },
    {
      "cell_type": "code",
      "metadata": {
        "id": "_qYqmgP8J7lF",
        "colab_type": "code",
        "colab": {}
      },
      "source": [
        "num_epochs = 20\n",
        "\n",
        "for i in range(num_epochs):\n",
        "    for sample in train_loader:\n",
        "        image, label = sample['image'], sample['mask']\n",
        "        prediction = model(image) \n",
        "\n",
        "        print(image.shape)\n",
        "        print(label.shape)\n",
        "        print(prediction.shape)\n",
        "\n",
        "        optimizer.zero_grad()\n",
        "        loss = criterion(prediction, label)\n",
        "        loss.backward()\n",
        "        optimizer.step() \n",
        "\n",
        "        train_loss += loss.item()\n",
        "    \n",
        "    train_loss /= len(train_loader)\n",
        "    print(\"Epoch = \", i, \"Training loss = \", train_loss)\n"
      ],
      "execution_count": null,
      "outputs": []
    },
    {
      "cell_type": "code",
      "metadata": {
        "id": "DWtsOAcKqXqC",
        "colab_type": "code",
        "colab": {
          "base_uri": "https://localhost:8080/",
          "height": 34
        },
        "outputId": "48c157b1-59c6-49c1-8664-5f675cd2c532"
      },
      "source": [
        "len(train)"
      ],
      "execution_count": 11,
      "outputs": [
        {
          "output_type": "execute_result",
          "data": {
            "text/plain": [
              "197"
            ]
          },
          "metadata": {
            "tags": []
          },
          "execution_count": 11
        }
      ]
    },
    {
      "cell_type": "code",
      "metadata": {
        "id": "Wneq_5cDslap",
        "colab_type": "code",
        "colab": {
          "base_uri": "https://localhost:8080/",
          "height": 34
        },
        "outputId": "af99ac26-a02f-48ac-dcc7-bf40e07c67a5"
      },
      "source": [
        "len(test)"
      ],
      "execution_count": 12,
      "outputs": [
        {
          "output_type": "execute_result",
          "data": {
            "text/plain": [
              "50"
            ]
          },
          "metadata": {
            "tags": []
          },
          "execution_count": 12
        }
      ]
    }
  ]
}