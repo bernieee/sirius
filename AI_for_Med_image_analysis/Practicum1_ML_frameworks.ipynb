{
  "nbformat": 4,
  "nbformat_minor": 0,
  "metadata": {
    "kernelspec": {
      "display_name": "Python 3",
      "language": "python",
      "name": "python3"
    },
    "language_info": {
      "codemirror_mode": {
        "name": "ipython",
        "version": 3
      },
      "file_extension": ".py",
      "mimetype": "text/x-python",
      "name": "python",
      "nbconvert_exporter": "python",
      "pygments_lexer": "ipython3",
      "version": "3.7.6"
    },
    "latex_envs": {
      "LaTeX_envs_menu_present": true,
      "autoclose": false,
      "autocomplete": true,
      "bibliofile": "biblio.bib",
      "cite_by": "apalike",
      "current_citInitial": 1,
      "eqLabelWithNumbers": true,
      "eqNumInitial": 1,
      "hotkeys": {
        "equation": "Ctrl-E",
        "itemize": "Ctrl-I"
      },
      "labels_anchors": false,
      "latex_user_defs": false,
      "report_style_numbering": false,
      "user_envs_cfg": false
    },
    "varInspector": {
      "cols": {
        "lenName": 16,
        "lenType": 16,
        "lenVar": 40
      },
      "kernels_config": {
        "python": {
          "delete_cmd_postfix": "",
          "delete_cmd_prefix": "del ",
          "library": "var_list.py",
          "varRefreshCmd": "print(var_dic_list())"
        },
        "r": {
          "delete_cmd_postfix": ") ",
          "delete_cmd_prefix": "rm(",
          "library": "var_list.r",
          "varRefreshCmd": "cat(var_dic_list()) "
        }
      },
      "types_to_exclude": [
        "module",
        "function",
        "builtin_function_or_method",
        "instance",
        "_Feature"
      ],
      "window_display": false
    },
    "colab": {
      "name": "Practicum1_ML_frameworks.ipynb",
      "provenance": [],
      "toc_visible": true,
      "include_colab_link": true
    }
  },
  "cells": [
    {
      "cell_type": "markdown",
      "metadata": {
        "id": "view-in-github",
        "colab_type": "text"
      },
      "source": [
        "<a href=\"https://colab.research.google.com/github/bernieee/SIRIUS/blob/master/AI_for_Med_image_analysis/Practicum1_ML_frameworks.ipynb\" target=\"_parent\"><img src=\"https://colab.research.google.com/assets/colab-badge.svg\" alt=\"Open In Colab\"/></a>"
      ]
    },
    {
      "cell_type": "markdown",
      "metadata": {
        "id": "zvuwdr8LPXFt",
        "colab_type": "text"
      },
      "source": [
        "## This is the first practical task of Sirius summer school \"Applying AI for Med image analysis\". \n",
        "Practical tasks take form of jupyter notebook with example code in the begging and some tasks in the end. Please, provide your solution in form of python code. Read hints, google a lot, don't hesitate to ask us directly and most importantly - \n",
        "<span style=\"color:blue\">have fun</span>."
      ]
    },
    {
      "cell_type": "markdown",
      "metadata": {
        "id": "ia-mNUH5PXFv",
        "colab_type": "text"
      },
      "source": [
        "**Topic**: ML frameworks, data preprocessing\n",
        "\n",
        "**To submit**: New version of the notebook, with your code. "
      ]
    },
    {
      "cell_type": "markdown",
      "metadata": {
        "id": "GaruJC-IPXFw",
        "colab_type": "text"
      },
      "source": [
        "## ML frameworks:\n",
        "### - Tensorflow\n",
        "### - High level tensorflow (aka Keras)\n",
        "### - Pytorch\n",
        "### - Other dead frameworks"
      ]
    },
    {
      "cell_type": "markdown",
      "metadata": {
        "id": "uxnyzkk_PXFx",
        "colab_type": "text"
      },
      "source": [
        "![image.png](https://cv-tricks.com/wp-content/uploads/2018/05/Karpathy-Pytorch-Tweet.png)"
      ]
    },
    {
      "cell_type": "markdown",
      "metadata": {
        "id": "anOOCI0fPXFy",
        "colab_type": "text"
      },
      "source": [
        "Please finish the folowing tutorials to get familiar with pytorch (we will use it later in course):\n",
        "- https://pytorch.org/tutorials/beginner/blitz/tensor_tutorial.html#sphx-glr-beginner-blitz-tensor-tutorial-py\n",
        "- https://pytorch.org/tutorials/beginner/blitz/autograd_tutorial.html\n",
        "- https://pytorch.org/tutorials/beginner/blitz/cifar10_tutorial.html"
      ]
    },
    {
      "cell_type": "markdown",
      "metadata": {
        "id": "RYLZn9hFPXFz",
        "colab_type": "text"
      },
      "source": [
        "Important part of Pytorch training cycle is Dataset class, which provides way to load data into your model. "
      ]
    },
    {
      "cell_type": "code",
      "metadata": {
        "id": "9ojA0uTwHWQ1",
        "colab_type": "code",
        "colab": {
          "base_uri": "https://localhost:8080/",
          "height": 125
        },
        "outputId": "9b636f27-06e2-47f6-e4e1-6cf920c4079a"
      },
      "source": [
        "from google.colab import drive\n",
        "drive.mount('/content/drive')"
      ],
      "execution_count": 2,
      "outputs": [
        {
          "output_type": "stream",
          "text": [
            "Go to this URL in a browser: https://accounts.google.com/o/oauth2/auth?client_id=947318989803-6bn6qk8qdgf4n4g3pfee6491hc0brc4i.apps.googleusercontent.com&redirect_uri=urn%3aietf%3awg%3aoauth%3a2.0%3aoob&response_type=code&scope=email%20https%3a%2f%2fwww.googleapis.com%2fauth%2fdocs.test%20https%3a%2f%2fwww.googleapis.com%2fauth%2fdrive%20https%3a%2f%2fwww.googleapis.com%2fauth%2fdrive.photos.readonly%20https%3a%2f%2fwww.googleapis.com%2fauth%2fpeopleapi.readonly\n",
            "\n",
            "Enter your authorization code:\n",
            "··········\n",
            "Mounted at /content/drive\n"
          ],
          "name": "stdout"
        }
      ]
    },
    {
      "cell_type": "code",
      "metadata": {
        "id": "P1HUDMUtHcd6",
        "colab_type": "code",
        "colab": {}
      },
      "source": [
        "path = \"/content/drive/My Drive/Sirius 2020/\""
      ],
      "execution_count": 3,
      "outputs": []
    },
    {
      "cell_type": "code",
      "metadata": {
        "id": "ye6o0tI2i-bQ",
        "colab_type": "code",
        "colab": {
          "base_uri": "https://localhost:8080/",
          "height": 125
        },
        "outputId": "47912dc3-663b-4b91-c318-1a2ea7b1d2d1"
      },
      "source": [
        "#let's install pydicom, which is a library to operate dicom files and their content\n",
        "!pip install pydicom "
      ],
      "execution_count": 9,
      "outputs": [
        {
          "output_type": "stream",
          "text": [
            "Collecting pydicom\n",
            "\u001b[?25l  Downloading https://files.pythonhosted.org/packages/d3/56/342e1f8ce5afe63bf65c23d0b2c1cd5a05600caad1c211c39725d3a4cc56/pydicom-2.0.0-py3-none-any.whl (35.4MB)\n",
            "\u001b[K     |████████████████████████████████| 35.5MB 120kB/s \n",
            "\u001b[?25hInstalling collected packages: pydicom\n",
            "Successfully installed pydicom-2.0.0\n"
          ],
          "name": "stdout"
        }
      ]
    },
    {
      "cell_type": "code",
      "metadata": {
        "id": "jeLz5CS4PXF0",
        "colab_type": "code",
        "colab": {
          "base_uri": "https://localhost:8080/",
          "height": 354
        },
        "outputId": "66ae3755-ffd6-484f-a064-423056b95eb4"
      },
      "source": [
        "!pip install torch===1.5.1 torchvision===0.6.1 -f https://download.pytorch.org/whl/torch_stable.html"
      ],
      "execution_count": 4,
      "outputs": [
        {
          "output_type": "stream",
          "text": [
            "Looking in links: https://download.pytorch.org/whl/torch_stable.html\n",
            "Collecting torch===1.5.1\n",
            "\u001b[?25l  Downloading https://files.pythonhosted.org/packages/62/01/457b49d790b6c4b9720e6f9dbbb617692f6ce8afdaadf425c055c41a7416/torch-1.5.1-cp36-cp36m-manylinux1_x86_64.whl (753.2MB)\n",
            "\u001b[K     |████████████████████████████████| 753.2MB 23kB/s \n",
            "\u001b[?25hCollecting torchvision===0.6.1\n",
            "\u001b[?25l  Downloading https://files.pythonhosted.org/packages/9a/f1/535a407b4a265adf2dd7c2c2458217e37c5fe83ec97234e66c564592a9a0/torchvision-0.6.1-cp36-cp36m-manylinux1_x86_64.whl (6.6MB)\n",
            "\u001b[K     |████████████████████████████████| 6.6MB 17.9MB/s \n",
            "\u001b[?25hRequirement already satisfied: numpy in /usr/local/lib/python3.6/dist-packages (from torch===1.5.1) (1.18.5)\n",
            "Requirement already satisfied: future in /usr/local/lib/python3.6/dist-packages (from torch===1.5.1) (0.16.0)\n",
            "Requirement already satisfied: pillow>=4.1.1 in /usr/local/lib/python3.6/dist-packages (from torchvision===0.6.1) (7.0.0)\n",
            "Installing collected packages: torch, torchvision\n",
            "  Found existing installation: torch 1.5.1+cu101\n",
            "    Uninstalling torch-1.5.1+cu101:\n",
            "      Successfully uninstalled torch-1.5.1+cu101\n",
            "  Found existing installation: torchvision 0.6.1+cu101\n",
            "    Uninstalling torchvision-0.6.1+cu101:\n",
            "      Successfully uninstalled torchvision-0.6.1+cu101\n",
            "Successfully installed torch-1.5.1 torchvision-0.6.1\n"
          ],
          "name": "stdout"
        }
      ]
    },
    {
      "cell_type": "code",
      "metadata": {
        "id": "CGHuChSbPXF7",
        "colab_type": "code",
        "colab": {}
      },
      "source": [
        "import torch\n",
        "from torch.utils.data import Dataset\n",
        "import numpy as np\n",
        "\n",
        "class MyDataset(Dataset):\n",
        "    def __init__():\n",
        "        #do some initialization\n",
        "        pass\n",
        "    \n",
        "    def __len__(self):\n",
        "        #calculate length of your dataset here\n",
        "        return \n",
        "    \n",
        "    def __getitem__(self, index):\n",
        "        #code to load sample with given index\n",
        "        return"
      ],
      "execution_count": 5,
      "outputs": []
    },
    {
      "cell_type": "markdown",
      "metadata": {
        "id": "mHTtVqcKPXGA",
        "colab_type": "text"
      },
      "source": [
        "For example particular (although not very usefull)  implementation to load number. "
      ]
    },
    {
      "cell_type": "code",
      "metadata": {
        "id": "brXjtukUPXGB",
        "colab_type": "code",
        "colab": {
          "base_uri": "https://localhost:8080/",
          "height": 52
        },
        "outputId": "635f33e4-493d-451c-8806-b4256ebe68dd"
      },
      "source": [
        "class MyNumberDataset(Dataset):\n",
        "    \"\"\"\n",
        "    Return numbers from given range\n",
        "    \"\"\"\n",
        "    def __init__(self,min_number=0,max_number=100):\n",
        "        self.numbers = np.arange(min_number,max_number)\n",
        "        pass\n",
        "    \n",
        "    def __len__(self):\n",
        "        return len(self.numbers)\n",
        "    \n",
        "    def __getitem__(self, index):\n",
        "        return torch.tensor(self.numbers[index])\n",
        "\n",
        "my_dataset = MyNumberDataset(0,10)\n",
        "print(my_dataset[0])\n",
        "print(my_dataset[5])"
      ],
      "execution_count": 6,
      "outputs": [
        {
          "output_type": "stream",
          "text": [
            "tensor(0)\n",
            "tensor(5)\n"
          ],
          "name": "stdout"
        }
      ]
    },
    {
      "cell_type": "markdown",
      "metadata": {
        "id": "FGkjqz-tPXGH",
        "colab_type": "text"
      },
      "source": [
        "### Two kinds of data preprocessing:\n",
        "#### - Transforms - Invariant preprocessing always applied to image (for example, noise reduction, convertion to proper size)\n",
        "#### - Augmentations - Probabilistic changes, used in training to add variation to images. \n",
        "#### let's see how they work\n",
        "\n",
        "https://albumentations.readthedocs.io/en/latest/examples.html"
      ]
    },
    {
      "cell_type": "code",
      "metadata": {
        "id": "5Nz--Yp3PXGI",
        "colab_type": "code",
        "colab": {
          "base_uri": "https://localhost:8080/",
          "height": 547
        },
        "outputId": "0ebd840a-b90c-4f17-8c4f-aadd88924467"
      },
      "source": [
        "!pip install albumentations"
      ],
      "execution_count": 7,
      "outputs": [
        {
          "output_type": "stream",
          "text": [
            "Requirement already satisfied: albumentations in /usr/local/lib/python3.6/dist-packages (0.1.12)\n",
            "Requirement already satisfied: opencv-python in /usr/local/lib/python3.6/dist-packages (from albumentations) (4.1.2.30)\n",
            "Requirement already satisfied: scipy in /usr/local/lib/python3.6/dist-packages (from albumentations) (1.4.1)\n",
            "Requirement already satisfied: numpy>=1.11.1 in /usr/local/lib/python3.6/dist-packages (from albumentations) (1.18.5)\n",
            "Collecting imgaug<0.2.7,>=0.2.5\n",
            "\u001b[?25l  Downloading https://files.pythonhosted.org/packages/ad/2e/748dbb7bb52ec8667098bae9b585f448569ae520031932687761165419a2/imgaug-0.2.6.tar.gz (631kB)\n",
            "\u001b[K     |████████████████████████████████| 634kB 2.7MB/s \n",
            "\u001b[?25hRequirement already satisfied: scikit-image>=0.11.0 in /usr/local/lib/python3.6/dist-packages (from imgaug<0.2.7,>=0.2.5->albumentations) (0.16.2)\n",
            "Requirement already satisfied: six in /usr/local/lib/python3.6/dist-packages (from imgaug<0.2.7,>=0.2.5->albumentations) (1.15.0)\n",
            "Requirement already satisfied: matplotlib!=3.0.0,>=2.0.0 in /usr/local/lib/python3.6/dist-packages (from scikit-image>=0.11.0->imgaug<0.2.7,>=0.2.5->albumentations) (3.2.2)\n",
            "Requirement already satisfied: networkx>=2.0 in /usr/local/lib/python3.6/dist-packages (from scikit-image>=0.11.0->imgaug<0.2.7,>=0.2.5->albumentations) (2.4)\n",
            "Requirement already satisfied: pillow>=4.3.0 in /usr/local/lib/python3.6/dist-packages (from scikit-image>=0.11.0->imgaug<0.2.7,>=0.2.5->albumentations) (7.0.0)\n",
            "Requirement already satisfied: PyWavelets>=0.4.0 in /usr/local/lib/python3.6/dist-packages (from scikit-image>=0.11.0->imgaug<0.2.7,>=0.2.5->albumentations) (1.1.1)\n",
            "Requirement already satisfied: imageio>=2.3.0 in /usr/local/lib/python3.6/dist-packages (from scikit-image>=0.11.0->imgaug<0.2.7,>=0.2.5->albumentations) (2.4.1)\n",
            "Requirement already satisfied: python-dateutil>=2.1 in /usr/local/lib/python3.6/dist-packages (from matplotlib!=3.0.0,>=2.0.0->scikit-image>=0.11.0->imgaug<0.2.7,>=0.2.5->albumentations) (2.8.1)\n",
            "Requirement already satisfied: pyparsing!=2.0.4,!=2.1.2,!=2.1.6,>=2.0.1 in /usr/local/lib/python3.6/dist-packages (from matplotlib!=3.0.0,>=2.0.0->scikit-image>=0.11.0->imgaug<0.2.7,>=0.2.5->albumentations) (2.4.7)\n",
            "Requirement already satisfied: cycler>=0.10 in /usr/local/lib/python3.6/dist-packages (from matplotlib!=3.0.0,>=2.0.0->scikit-image>=0.11.0->imgaug<0.2.7,>=0.2.5->albumentations) (0.10.0)\n",
            "Requirement already satisfied: kiwisolver>=1.0.1 in /usr/local/lib/python3.6/dist-packages (from matplotlib!=3.0.0,>=2.0.0->scikit-image>=0.11.0->imgaug<0.2.7,>=0.2.5->albumentations) (1.2.0)\n",
            "Requirement already satisfied: decorator>=4.3.0 in /usr/local/lib/python3.6/dist-packages (from networkx>=2.0->scikit-image>=0.11.0->imgaug<0.2.7,>=0.2.5->albumentations) (4.4.2)\n",
            "Building wheels for collected packages: imgaug\n",
            "  Building wheel for imgaug (setup.py) ... \u001b[?25l\u001b[?25hdone\n",
            "  Created wheel for imgaug: filename=imgaug-0.2.6-cp36-none-any.whl size=654020 sha256=224b0c7feb2a7c507dff0e2a14592a3ca7e4c1cc35c0cb25a00323bcb2d643e4\n",
            "  Stored in directory: /root/.cache/pip/wheels/97/ec/48/0d25896c417b715af6236dbcef8f0bed136a1a5e52972fc6d0\n",
            "Successfully built imgaug\n",
            "Installing collected packages: imgaug\n",
            "  Found existing installation: imgaug 0.2.9\n",
            "    Uninstalling imgaug-0.2.9:\n",
            "      Successfully uninstalled imgaug-0.2.9\n",
            "Successfully installed imgaug-0.2.6\n"
          ],
          "name": "stdout"
        }
      ]
    },
    {
      "cell_type": "code",
      "metadata": {
        "id": "UA0ohKb9PXGO",
        "colab_type": "code",
        "colab": {}
      },
      "source": [
        "import pydicom \n",
        "from matplotlib import pyplot as plt\n",
        "from albumentations import (\n",
        "    HorizontalFlip, VerticalFlip, ShiftScaleRotate, CLAHE, RandomRotate90,\n",
        "    Transpose, ShiftScaleRotate, Blur, OpticalDistortion, GridDistortion, HueSaturationValue,\n",
        "     GaussNoise, MotionBlur, MedianBlur, IAAPiecewiseAffine,\n",
        "    IAASharpen, IAAEmboss, RandomBrightnessContrast, Flip, OneOf, Compose\n",
        ")\n",
        "dicom_example = pydicom.read_file(path + \"data/IM_00020_ano.dcm\")\n",
        "img = dicom_example.pixel_array.copy()\n",
        "img = ((img-img.min()) / (img.max()-img.min()) * 255).astype(np.uint8)\n",
        "\n",
        "transforms = Compose([VerticalFlip(),GridDistortion(distort_limit=1),MotionBlur(blur_limit=10,p=1)])"
      ],
      "execution_count": 10,
      "outputs": []
    },
    {
      "cell_type": "code",
      "metadata": {
        "id": "CVI65_lRPXGU",
        "colab_type": "code",
        "colab": {
          "base_uri": "https://localhost:8080/",
          "height": 286
        },
        "outputId": "f719a386-5fa3-48fd-c7eb-de0a4b3217fd"
      },
      "source": [
        "transformed = transforms(image=img)['image']\n",
        "#Each time you run this cell you will get different result\n",
        "plt.imshow(transformed,cmap=\"bone\")"
      ],
      "execution_count": 13,
      "outputs": [
        {
          "output_type": "execute_result",
          "data": {
            "text/plain": [
              "<matplotlib.image.AxesImage at 0x7fd80ed76a90>"
            ]
          },
          "metadata": {
            "tags": []
          },
          "execution_count": 13
        },
        {
          "output_type": "display_data",
          "data": {
            "image/png": "[encoded data removed]",
            "text/plain": [
              "<Figure size 432x288 with 1 Axes>"
            ]
          },
          "metadata": {
            "tags": [],
            "needs_background": "light"
          }
        }
      ]
    },
    {
      "cell_type": "markdown",
      "metadata": {
        "id": "ItPujACdPXGe",
        "colab_type": "text"
      },
      "source": [
        "## **Task 1:**\n",
        "- Theory: It's great to have convinient dataset class to train your model. \n",
        "- Given: Images from data\\MedMnist folder\n",
        "- Do: Create dataset class, which supports transformations. Use folder names to create classes.  \n"
      ]
    },
    {
      "cell_type": "code",
      "metadata": {
        "id": "jQzVE-J3h0ck",
        "colab_type": "code",
        "colab": {}
      },
      "source": [
        "!unzip '/content/drive/My Drive/Sirius 2020/data/MedMnist.zip'"
      ],
      "execution_count": null,
      "outputs": []
    },
    {
      "cell_type": "code",
      "metadata": {
        "id": "EHQSTeRgh1Zl",
        "colab_type": "code",
        "colab": {}
      },
      "source": [
        "import os"
      ],
      "execution_count": 21,
      "outputs": []
    },
    {
      "cell_type": "code",
      "metadata": {
        "id": "-JtA4Il1PXGf",
        "colab_type": "code",
        "colab": {}
      },
      "source": [
        "class TransformationDataset(Dataset):\n",
        "\n",
        "    def __init__(self, root, transform):\n",
        "        self.transform = transforms\n",
        "        self.images = self.__image_paths__(root)\n",
        "        self.labels = self.__image_labels__(root)\n",
        "\n",
        "        pass\n",
        "\n",
        "    def __image_paths__(self, root):\n",
        "        folder = []\n",
        "        image_paths = [] \n",
        "\n",
        "        for name in os.walk('MedMnist'):\n",
        "          folder.append(name)\n",
        "\n",
        "        for address, dirs, files in folder:\n",
        "          for name in files:\n",
        "            image_paths.append(address + '/' + name)\n",
        "        \n",
        "        return image_paths\n",
        "\n",
        "    def __image_labels__(self, root):\n",
        "        labels = list(os.walk('MedMnist'))[0][1]\n",
        "        labels_dict = {labels[i] : i for i in range(len(labels))}\n",
        "\n",
        "        return labels_dict\n",
        "                                            \n",
        "    def __len__(self):\n",
        "        return len(self.images)\n",
        "\n",
        "    def __get_image__(self, image_path):\n",
        "        image_file = pydicom.read_file(image_path)\n",
        "        image_array = image_file.pixel_array.copy()\n",
        "        image_array = ((image_array-image_array.min()) / (image_array.max()-image_array.min()) * 255).astype(np.uint8)\n",
        "\n",
        "        return image_array\n",
        "\n",
        "    def __get_label__(self, image_path):\n",
        "        label = list(image_path.split('/'))[1]\n",
        "\n",
        "        return self.labels[label]\n",
        "        \n",
        "    def __get_item__(self, index):\n",
        "        image_path = self.images[index]\n",
        "\n",
        "        image = self.__get_image__(image_path)\n",
        "        image = self.transform(image=image)['image']\n",
        "\n",
        "        label = self.__get_label__(image_path)\n",
        "\n",
        "        image = torch.tensor(image)\n",
        "        label = torch.tensor(label)\n",
        "  \n",
        "        return {'image':image, 'label':label}"
      ],
      "execution_count": 43,
      "outputs": []
    },
    {
      "cell_type": "code",
      "metadata": {
        "id": "aDbDtvRKM10j",
        "colab_type": "code",
        "colab": {
          "base_uri": "https://localhost:8080/",
          "height": 325
        },
        "outputId": "61cab848-2b98-4d84-fd89-f6bd24dfe4d3"
      },
      "source": [
        "dataset = TransformationDataset('MedMnist', transforms)\n",
        "\n",
        "dataset[0][1]"
      ],
      "execution_count": 46,
      "outputs": [
        {
          "output_type": "error",
          "ename": "NotImplementedError",
          "evalue": "ignored",
          "traceback": [
            "\u001b[0;31m---------------------------------------------------------------------------\u001b[0m",
            "\u001b[0;31mNotImplementedError\u001b[0m                       Traceback (most recent call last)",
            "\u001b[0;32m<ipython-input-46-cd3b83d65245>\u001b[0m in \u001b[0;36m<module>\u001b[0;34m()\u001b[0m\n\u001b[1;32m      1\u001b[0m \u001b[0mdataset\u001b[0m \u001b[0;34m=\u001b[0m \u001b[0mTransformationDataset\u001b[0m\u001b[0;34m(\u001b[0m\u001b[0;34m'MedMnist'\u001b[0m\u001b[0;34m,\u001b[0m \u001b[0mtransforms\u001b[0m\u001b[0;34m)\u001b[0m\u001b[0;34m\u001b[0m\u001b[0;34m\u001b[0m\u001b[0m\n\u001b[1;32m      2\u001b[0m \u001b[0;34m\u001b[0m\u001b[0m\n\u001b[0;32m----> 3\u001b[0;31m \u001b[0mdataset\u001b[0m\u001b[0;34m[\u001b[0m\u001b[0;36m0\u001b[0m\u001b[0;34m]\u001b[0m\u001b[0;34m[\u001b[0m\u001b[0;36m1\u001b[0m\u001b[0;34m]\u001b[0m\u001b[0;34m\u001b[0m\u001b[0;34m\u001b[0m\u001b[0m\n\u001b[0m",
            "\u001b[0;32m/usr/local/lib/python3.6/dist-packages/torch/utils/data/dataset.py\u001b[0m in \u001b[0;36m__getitem__\u001b[0;34m(self, index)\u001b[0m\n\u001b[1;32m     23\u001b[0m \u001b[0;34m\u001b[0m\u001b[0m\n\u001b[1;32m     24\u001b[0m     \u001b[0;32mdef\u001b[0m \u001b[0m__getitem__\u001b[0m\u001b[0;34m(\u001b[0m\u001b[0mself\u001b[0m\u001b[0;34m,\u001b[0m \u001b[0mindex\u001b[0m\u001b[0;34m)\u001b[0m\u001b[0;34m:\u001b[0m\u001b[0;34m\u001b[0m\u001b[0;34m\u001b[0m\u001b[0m\n\u001b[0;32m---> 25\u001b[0;31m         \u001b[0;32mraise\u001b[0m \u001b[0mNotImplementedError\u001b[0m\u001b[0;34m\u001b[0m\u001b[0;34m\u001b[0m\u001b[0m\n\u001b[0m\u001b[1;32m     26\u001b[0m \u001b[0;34m\u001b[0m\u001b[0m\n\u001b[1;32m     27\u001b[0m     \u001b[0;32mdef\u001b[0m \u001b[0m__add__\u001b[0m\u001b[0;34m(\u001b[0m\u001b[0mself\u001b[0m\u001b[0;34m,\u001b[0m \u001b[0mother\u001b[0m\u001b[0;34m)\u001b[0m\u001b[0;34m:\u001b[0m\u001b[0;34m\u001b[0m\u001b[0;34m\u001b[0m\u001b[0m\n",
            "\u001b[0;31mNotImplementedError\u001b[0m: "
          ]
        }
      ]
    }
  ]
}